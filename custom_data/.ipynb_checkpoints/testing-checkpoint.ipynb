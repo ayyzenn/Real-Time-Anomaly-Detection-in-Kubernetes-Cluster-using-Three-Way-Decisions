{
 "cells": [
  {
   "cell_type": "code",
   "execution_count": 105,
   "id": "0a50b53b-4eb3-401b-bbe3-c9b5abb1e5a5",
   "metadata": {
    "tags": []
   },
   "outputs": [],
   "source": [
    "import pandas as pd\n",
    "from sklearn.metrics import confusion_matrix, classification_report\n",
    "import matplotlib.pyplot as plt\n",
    "import seaborn as sns\n",
    "\n",
    "# Functions for anomaly detection and evaluation\n",
    "def sliding_window_std(df, column_name, window_size, threshold):\n",
    "    results = []\n",
    "    problem_vals = []  # List to store values that exceed the threshold\n",
    "    problematic_rows = []  # List to store rows corresponding to problematic values\n",
    "    for i in range(len(df)):\n",
    "        # Calculate the window boundaries\n",
    "        start_index = max(0, i - window_size // 2)\n",
    "        end_index = min(len(df), i + window_size // 2 + 1)\n",
    "        \n",
    "        # Get the numbers within the window\n",
    "        window = df[column_name].iloc[start_index:end_index]\n",
    "        \n",
    "        # Calculate the standard deviation of the window\n",
    "        std_dev = window.std()\n",
    "        \n",
    "        # Append the result to the results list\n",
    "        results.append((i, df.iloc[i][column_name], window.tolist(), std_dev))\n",
    "        if len(results) >= 3:\n",
    "            avg_prev_results = (results[-3][3] + results[-2][3]) / 2\n",
    "            threshold_value = avg_prev_results + threshold\n",
    "\n",
    "            if std_dev < threshold_value or std_dev > threshold_value :\n",
    "                # Append the index and value to problem_vals\n",
    "                row = finding_row_number(df[column_name],  window.iloc[-1])\n",
    "                problematic_row = df.iloc[row]\n",
    "                \n",
    "                if removing_seasonal_points(problematic_row):\n",
    "                    #problem_vals.append((i - window_size // 2, window.iloc[-1]))\n",
    "                    df.at[row, 'predicted_anomalies'] = 1\n",
    "                else:\n",
    "                    pass\n",
    "    return df\n",
    "                \n",
    "\n",
    "def finding_row_number(original_lst, anomaly_lst):\n",
    "    i = -1\n",
    "    for num in original_lst:\n",
    "        i +=1\n",
    "        if num == anomaly_lst:\n",
    "            return i\n",
    "\n",
    "def removing_seasonal_points(anomalous_row):\n",
    "    a=anomalous_row[\"Time\"]\n",
    "    dt_obj = datetime.datetime.strptime(str(a), '%Y-%m-%d %H:%M:%S')\n",
    "    if (dt_obj.minute== 0 and  dt_obj.second== 0):\n",
    "        return False        \n",
    "    else:\n",
    "        return True\n",
    "\n",
    "df = pd.read_csv(\"cpu_usage.csv\")\n",
    "# Specify the column name containing the data\n",
    "column_name = 'value'\n",
    "\n",
    "window_size = 4\n",
    "threshold = 10 # Adjust threshold as needed\n",
    "df['predicted_anomalies'] = 0\n",
    "\n",
    "d=sliding_window_std(df, column_name, window_size, threshold)"
   ]
  },
  {
   "cell_type": "code",
   "execution_count": 106,
   "id": "acce5660-2fcd-4983-b241-6fa0d1b3e7de",
   "metadata": {
    "tags": []
   },
   "outputs": [
    {
     "name": "stdout",
     "output_type": "stream",
     "text": [
      "Accuracy: 0.8578745198463509\n",
      "Precision: 0.018018018018018018\n",
      "Recall: 0.5\n",
      "F1-score: 0.034782608695652174\n",
      "TP 2\n",
      "TN 668\n",
      "FP 109\n",
      "FN 2\n"
     ]
    }
   ],
   "source": [
    "def evaluate_anomaly_detection(true_labels, predicted_labels):\n",
    "    # Generate confusion matrix\n",
    "    cm = confusion_matrix(true_labels, predicted_labels)\n",
    "\n",
    "    # Extract true positives (TP) and true negatives (TN)\n",
    "    TP = cm[1, 1]  # Actual positive (1) and predicted positive (1)\n",
    "    TN = cm[0, 0]  # Actual negative (0) and predicted negative (0)\n",
    "    FP = cm[0, 1]  # Actual negative (0) but predicted positive (1)\n",
    "    FN = cm[1, 0]  # Actual positive (1) but predicted negative (0)\n",
    "\n",
    "    # Calculate Accuracy\n",
    "    accuracy = (TP + TN) / (TP + TN + FP + FN)\n",
    "\n",
    "    # Calculate Precision\n",
    "    precision = TP / (TP + FP)\n",
    "\n",
    "    # Calculate Recall\n",
    "    recall = TP / (TP + FN)\n",
    "\n",
    "    # Calculate F1-score\n",
    "    f1_score = 2 * (precision * recall) / (precision + recall)\n",
    "\n",
    "    print(\"Accuracy:\", accuracy)\n",
    "    print(\"Precision:\", precision)\n",
    "    print(\"Recall:\", recall)\n",
    "    print(\"F1-score:\", f1_score)\n",
    "    print(\"TP\",TP)\n",
    "    print(\"TN\",TN)\n",
    "    print(\"FP\",FP)\n",
    "    print(\"FN\",FN)\n",
    "    #return accuracy\n",
    "\n",
    "# Evaluate anomaly detection and return accuracy\n",
    "evaluate_anomaly_detection(df['is_anomaly'], df['predicted_anomalies'])\n",
    "#print(accuracy)"
   ]
  },
  {
   "cell_type": "code",
   "execution_count": null,
   "id": "a0a0c7ce-2641-43ce-b633-7ab321b8d7e0",
   "metadata": {},
   "outputs": [],
   "source": []
  },
  {
   "cell_type": "code",
   "execution_count": null,
   "id": "bfc4cfcf-57fe-44a2-ae4a-2c52b6149fef",
   "metadata": {},
   "outputs": [],
   "source": []
  }
 ],
 "metadata": {
  "kernelspec": {
   "display_name": "Python 3 (ipykernel)",
   "language": "python",
   "name": "python3"
  },
  "language_info": {
   "codemirror_mode": {
    "name": "ipython",
    "version": 3
   },
   "file_extension": ".py",
   "mimetype": "text/x-python",
   "name": "python",
   "nbconvert_exporter": "python",
   "pygments_lexer": "ipython3",
   "version": "3.11.5"
  }
 },
 "nbformat": 4,
 "nbformat_minor": 5
}
