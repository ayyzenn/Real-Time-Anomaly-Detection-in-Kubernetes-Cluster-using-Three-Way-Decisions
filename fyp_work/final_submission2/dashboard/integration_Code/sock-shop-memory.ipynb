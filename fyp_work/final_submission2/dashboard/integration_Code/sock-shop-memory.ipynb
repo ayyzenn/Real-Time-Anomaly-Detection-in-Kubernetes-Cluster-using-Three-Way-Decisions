{
 "cells": [
  {
   "cell_type": "code",
   "execution_count": 1,
   "id": "769ebe12-5f63-45d9-911d-4f71236e72a5",
   "metadata": {
    "tags": []
   },
   "outputs": [],
   "source": [
    "import pandas as pd\n",
    "import numpy as np\n",
    "\n",
    "import csv\n",
    "import time\n",
    "\n",
    "import datetime\n",
    "import requests\n",
    "import json\n",
    "from time import sleep\n",
    "import csv\n",
    "import threading\n",
    "import os"
   ]
  },
  {
   "cell_type": "code",
   "execution_count": 3,
   "id": "e70a7fbb-901f-4f22-b791-0c8467f0a2cf",
   "metadata": {
    "tags": []
   },
   "outputs": [
    {
     "ename": "KeyboardInterrupt",
     "evalue": "",
     "output_type": "error",
     "traceback": [
      "\u001b[0;31m---------------------------------------------------------------------------\u001b[0m",
      "\u001b[0;31mKeyboardInterrupt\u001b[0m                         Traceback (most recent call last)",
      "Cell \u001b[0;32mIn[3], line 41\u001b[0m\n\u001b[1;32m     39\u001b[0m         \u001b[38;5;66;03m# Sleep for 5 seconds\u001b[39;00m\n\u001b[1;32m     40\u001b[0m         sleep(\u001b[38;5;241m5\u001b[39m)\n\u001b[0;32m---> 41\u001b[0m fetch_data()\n",
      "Cell \u001b[0;32mIn[3], line 40\u001b[0m, in \u001b[0;36mfetch_data\u001b[0;34m()\u001b[0m\n\u001b[1;32m     37\u001b[0m         writer\u001b[38;5;241m.\u001b[39mwriterow([timestamp, value])\n\u001b[1;32m     39\u001b[0m \u001b[38;5;66;03m# Sleep for 5 seconds\u001b[39;00m\n\u001b[0;32m---> 40\u001b[0m sleep(\u001b[38;5;241m5\u001b[39m)\n",
      "\u001b[0;31mKeyboardInterrupt\u001b[0m: "
     ]
    }
   ],
   "source": [
    "# Prometheus API endpoint\n",
    "prometheus_api = \"http://192.168.49.2:31090/api/v1/query\"\n",
    "query1 = \"\"\"sum (container_memory_working_set_bytes{namespace=\"sock-shop\"})\"\"\"\n",
    "query2= \"sum (machine_memory_bytes{})\"\n",
    "\n",
    "# CSV file path\n",
    "csv_file_path = \"Sock-shop_memory_usage.csv\"\n",
    "csv_header = [\"Timestamp\", \"Value\"]\n",
    "\n",
    "def fetch_data():\n",
    "    while True:\n",
    "        # Fetch data from Prometheus\n",
    "        params= {\"query\": query1}\n",
    "        response1 = requests.get(prometheus_api, params=params)\n",
    "        data1 = response1.json()\n",
    "\n",
    "        params = {\"query\": query2}\n",
    "        response2 = requests.get(prometheus_api, params=params)\n",
    "        data2 = response2.json()\n",
    "        \n",
    "        total_machine_memory = data2['data']['result'][0]['value'][1]\n",
    "        \n",
    "        # Open CSV file in append mode\n",
    "        with open(csv_file_path, mode=\"a\", newline=\"\") as csv_file:\n",
    "            writer = csv.writer(csv_file)\n",
    "\n",
    "            # Write header if file is empty\n",
    "            if csv_file.tell() == 0:\n",
    "                writer.writerow(csv_header)\n",
    "\n",
    "            # Write data to CSV\n",
    "            for result in data1[\"data\"][\"result\"]:\n",
    "                time = result[\"value\"][0]\n",
    "                dt_object = datetime.datetime.fromtimestamp(time)\n",
    "                timestamp = dt_object.strftime('%Y-%m-%d %H:%M:%S')\n",
    "                value = round(((float(result[\"value\"][1]))/float(total_machine_memory))*100, 2)\n",
    "                writer.writerow([timestamp, value])\n",
    "        \n",
    "        # Sleep for 5 seconds\n",
    "        sleep(5)\n",
    "fetch_data()"
   ]
  },
  {
   "cell_type": "code",
   "execution_count": null,
   "id": "f096f797-1332-4f2d-94e9-70e56f3f4ee3",
   "metadata": {},
   "outputs": [],
   "source": []
  }
 ],
 "metadata": {
  "kernelspec": {
   "display_name": "Python 3 (ipykernel)",
   "language": "python",
   "name": "python3"
  },
  "language_info": {
   "codemirror_mode": {
    "name": "ipython",
    "version": 3
   },
   "file_extension": ".py",
   "mimetype": "text/x-python",
   "name": "python",
   "nbconvert_exporter": "python",
   "pygments_lexer": "ipython3",
   "version": "3.11.5"
  }
 },
 "nbformat": 4,
 "nbformat_minor": 5
}
