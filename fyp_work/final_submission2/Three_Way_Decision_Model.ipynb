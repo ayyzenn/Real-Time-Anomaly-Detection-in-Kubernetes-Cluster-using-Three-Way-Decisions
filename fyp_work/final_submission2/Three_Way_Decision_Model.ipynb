{
 "cells": [
  {
   "cell_type": "markdown",
   "id": "15d1ff54-0c0b-4540-908e-d4e887a02450",
   "metadata": {},
   "source": [
    "## Imports"
   ]
  },
  {
   "cell_type": "code",
   "execution_count": 1,
   "id": "cd077dbe-df45-4903-98a4-fe46d62c7c6d",
   "metadata": {
    "tags": []
   },
   "outputs": [],
   "source": [
    "import pandas as pd\n",
    "import numpy as np\n",
    "import matplotlib.pyplot as plt\n",
    "\n",
    "from sklearn.metrics import confusion_matrix, classification_report\n",
    "import seaborn as sns\n",
    "import datetime\n",
    "\n",
    "import warnings\n",
    "warnings.filterwarnings('ignore')\n",
    "\n",
    "%matplotlib inline"
   ]
  },
  {
   "cell_type": "markdown",
   "id": "5c542891-16ab-47c7-a82d-fa04ed550041",
   "metadata": {},
   "source": [
    "## Model"
   ]
  },
  {
   "cell_type": "code",
   "execution_count": null,
   "id": "5950f317-3744-4bd8-b390-4c91343c232c",
   "metadata": {},
   "outputs": [],
   "source": [
    "# Functions for anomaly detection and evaluation\n",
    "def sliding_window_std(df, column_name, window_size, threshold):\n",
    "    results = []\n",
    "    problem_vals = []  # List to store values that exceed the threshold\n",
    "    problematic_rows = []  # List to store rows corresponding to problematic values\n",
    "    for i in range(len(df)):\n",
    "        # Calculate the window boundaries\n",
    "        start_index = max(0, i - window_size // 2)\n",
    "        end_index = min(len(df), i + window_size // 2 + 1)\n",
    "        \n",
    "        # Get the numbers within the window\n",
    "        window = df[column_name].iloc[start_index:end_index]\n",
    "        \n",
    "        # Calculate the standard deviation of the window\n",
    "        std_dev = window.std()\n",
    "        \n",
    "        # Append the result to the results list\n",
    "        results.append((i, df.iloc[i][column_name], window.tolist(), std_dev))\n",
    "        if len(results) >= 3:\n",
    "            avg_prev_results = (results[-3][3] + results[-2][3]) / 2\n",
    "            threshold_value = avg_prev_results + threshold\n",
    "\n",
    "            if std_dev < threshold_value or std_dev > threshold_value :\n",
    "                # Append the index and value to problem_vals\n",
    "                row = finding_row_number(df[column_name],  window.iloc[-1])\n",
    "                problematic_row = df.iloc[row]\n",
    "                \n",
    "                if removing_seasonal_points(problematic_row):\n",
    "                    #problem_vals.append((i - window_size // 2, window.iloc[-1]))\n",
    "                    df.at[row, 'predicted_anomalies'] = 1\n",
    "                else:\n",
    "                    pass\n",
    "    return df\n",
    "                \n",
    "\n",
    "def finding_row_number(original_lst, anomaly_lst):\n",
    "    i = -1\n",
    "    for num in original_lst:\n",
    "        i +=1\n",
    "        if num == anomaly_lst:\n",
    "            return i\n",
    "\n",
    "def removing_seasonal_points(anomalous_row):\n",
    "    a=anomalous_row[\"Time\"]\n",
    "    dt_obj = datetime.datetime.strptime(str(a), '%Y-%m-%d %H:%M:%S')\n",
    "    if (dt_obj.minute== 0 and  dt_obj.second== 0):\n",
    "        return False        \n",
    "    else:\n",
    "        return True\n",
    "\n",
    "# specify the csv file\n",
    "#df = pd.read_csv(\"\")\n",
    "#df['timestamps'] = pd.to_datetime(df['timestamps'], unit='s')\n",
    "\n",
    "# Specify the column name containing the data\n",
    "#column_name = ''\n",
    "\n",
    "# Adjust window_size as needed\n",
    "window_size = None\n",
    "\n",
    "# Adjust threshold as needed\n",
    "threshold = None\n",
    "\n",
    "df['predicted_anomalies'] = 0\n",
    "\n",
    "df=sliding_window_std(df, column_name, window_size, threshold)"
   ]
  }
 ],
 "metadata": {
  "kernelspec": {
   "display_name": "Python 3 (ipykernel)",
   "language": "python",
   "name": "python3"
  },
  "language_info": {
   "codemirror_mode": {
    "name": "ipython",
    "version": 3
   },
   "file_extension": ".py",
   "mimetype": "text/x-python",
   "name": "python",
   "nbconvert_exporter": "python",
   "pygments_lexer": "ipython3",
   "version": "3.11.7"
  }
 },
 "nbformat": 4,
 "nbformat_minor": 5
}
