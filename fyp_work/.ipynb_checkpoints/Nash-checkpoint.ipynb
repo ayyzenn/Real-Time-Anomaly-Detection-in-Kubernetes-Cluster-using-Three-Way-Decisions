{
 "cells": [
  {
   "cell_type": "markdown",
   "id": "db44b983-72af-485d-b530-dbb6165487db",
   "metadata": {},
   "source": [
    "# Nash equilibrium"
   ]
  },
  {
   "cell_type": "markdown",
   "id": "d8826e45-8ce3-43e2-bb4e-31c92931084b",
   "metadata": {},
   "source": [
    "### Payoff matrix"
   ]
  },
  {
   "cell_type": "markdown",
   "id": "85531927-77b3-4657-9811-fc3fe1b98c5b",
   "metadata": {},
   "source": [
    "|            | P2 (Confess) | P2 (Don't Confesses) |\n",
    "|------------|-----------------------|--------------------|\n",
    "| P1 (Confess) | (10, 10)           | (0, 20)            |\n",
    "| P1 (Don't Confesses)    | (20, 0)            | (1, 1)           |\n"
   ]
  },
  {
   "cell_type": "code",
   "execution_count": 5,
   "id": "585e382b-0528-4809-aaaa-69f35c90183b",
   "metadata": {},
   "outputs": [
    {
     "name": "stdout",
     "output_type": "stream",
     "text": [
      "Nash Equilibrium(s) Found:\n",
      "Nash Equilibrium: (1, 1, (1, 1))\n"
     ]
    }
   ],
   "source": [
    "def find_nash_equilibrium(matrix):\n",
    "    nash_equilibria = []\n",
    "    row_min = [min(row) for row in matrix]\n",
    "    col_max = [max(col) for col in zip(*matrix)]\n",
    "\n",
    "    for i, row in enumerate(matrix):\n",
    "        for j, payoff in enumerate(row):\n",
    "            if payoff == row_min[i] and payoff == col_max[j]:\n",
    "                nash_equilibria.append((i, j, payoff))\n",
    "\n",
    "    return nash_equilibria\n",
    "\n",
    "# Payoff matrix representing the scenario\n",
    "payoff_matrix = [\n",
    "    [(10, 10), (0, 20)],\n",
    "    [(20, 0), (1, 1)]\n",
    "]\n",
    "\n",
    "nash_equilibria = find_nash_equilibrium(payoff_matrix)\n",
    "\n",
    "if nash_equilibria:\n",
    "    print(\"Nash Equilibrium(s) Found:\")\n",
    "    for equilibrium in nash_equilibria:\n",
    "        print(\"Nash Equilibrium:\", equilibrium)\n",
    "else:\n",
    "    print(\"No Nash Equilibrium Found.\")\n"
   ]
  },
  {
   "cell_type": "markdown",
   "id": "45d07415-e2b8-4b28-94c0-0ee1c60c23d4",
   "metadata": {},
   "source": [
    "# ---------------------------------------"
   ]
  },
  {
   "cell_type": "code",
   "execution_count": 11,
   "id": "16842e78-feed-4f9e-bb98-ec580beb5d2d",
   "metadata": {},
   "outputs": [
    {
     "name": "stdout",
     "output_type": "stream",
     "text": [
      "[(0, 20), (1, 1)]\n",
      "[(20, 0), (1, 1)]\n",
      "This is the value of i: 0\n",
      "This is the value of row: [(10, 10), (0, 20)]\n",
      "This is the value of j 0\n",
      "This is the value of payoff (10, 10)\n",
      "This is the value of j 1\n",
      "This is the value of payoff (0, 20)\n",
      "This is the value of i: 1\n",
      "This is the value of row: [(20, 0), (1, 1)]\n",
      "This is the value of j 0\n",
      "This is the value of payoff (20, 0)\n",
      "This is the value of j 1\n",
      "This is the value of payoff (1, 1)\n"
     ]
    }
   ],
   "source": [
    "def find_nash_equilibrium(matrix):\n",
    "    nash_equilibria = []\n",
    "\n",
    "    # row_min = []\n",
    "    # for row in matrix:\n",
    "    #     min_value = min(row)\n",
    "    #     row_min.append(min_value)\n",
    "    row_min = [min(row) for row in matrix]\n",
    "\n",
    "    # col_max = []\n",
    "    # for col in zip(*matrix):\n",
    "    #     max_value = max(col)\n",
    "    #     col_max.append(max_value)\n",
    "    col_max = [max(col) for col in zip(*matrix)]\n",
    "\n",
    "    print(row_min)\n",
    "    print(col_max)\n",
    "    \n",
    "    for i, row in enumerate(matrix):\n",
    "        print('This is the value of i:',i)\n",
    "        print('This is the value of row:',row)\n",
    "        for j, payoff in enumerate(row):\n",
    "            print('This is the value of j',j)\n",
    "            print('This is the value of payoff',payoff)\n",
    "    #         if payoff == row_min[i] and payoff == col_max[j]:\n",
    "    #             nash_equilibria.append((i, j, payoff))\n",
    "\n",
    "    # return nash_equilibria\n",
    "\n",
    "# Payoff matrix representing the scenario\n",
    "payoff_matrix = [\n",
    "    [(10, 10), (0, 20)],\n",
    "    [(20, 0), (1, 1)]\n",
    "]\n",
    "\n",
    "nash_equilibria = find_nash_equilibrium(payoff_matrix)"
   ]
  },
  {
   "cell_type": "code",
   "execution_count": 12,
   "id": "ae15f2c9-d84b-4a21-a270-63af1a398909",
   "metadata": {},
   "outputs": [
    {
     "name": "stdout",
     "output_type": "stream",
     "text": [
      "No Nash Equilibrium Found.\n"
     ]
    }
   ],
   "source": [
    "if nash_equilibria:\n",
    "    print(\"Nash Equilibrium(s) Found:\")\n",
    "    for equilibrium in nash_equilibria:\n",
    "        print(\"Nash Equilibrium:\", equilibrium)\n",
    "else:\n",
    "    print(\"No Nash Equilibrium Found.\")"
   ]
  },
  {
   "cell_type": "markdown",
   "id": "ede3db1b-2ca0-449e-94eb-570746149a0d",
   "metadata": {},
   "source": [
    "# ---------------------------------------------------"
   ]
  },
  {
   "cell_type": "code",
   "execution_count": 13,
   "id": "0baddee9-faed-4c38-8d49-1a81918f0e63",
   "metadata": {},
   "outputs": [],
   "source": [
    "payoff_matrix = [\n",
    "    [(10, 10), (0, 20)],\n",
    "    [(20, 0), (1, 1)]\n",
    "]"
   ]
  },
  {
   "cell_type": "code",
   "execution_count": 16,
   "id": "f69aa0ad-53c3-4d87-af92-e55e39286543",
   "metadata": {},
   "outputs": [
    {
     "data": {
      "text/plain": [
       "10"
      ]
     },
     "execution_count": 16,
     "metadata": {},
     "output_type": "execute_result"
    }
   ],
   "source": [
    "payoff_matrix[0][0][0]"
   ]
  },
  {
   "cell_type": "code",
   "execution_count": null,
   "id": "fd2500f5-6d87-4ebd-aabb-46c56036f963",
   "metadata": {},
   "outputs": [],
   "source": []
  },
  {
   "cell_type": "code",
   "execution_count": null,
   "id": "4f433e31-4d19-4422-9f65-29f7ca9b9e90",
   "metadata": {},
   "outputs": [],
   "source": []
  },
  {
   "cell_type": "code",
   "execution_count": null,
   "id": "d97f1262-a4b9-458d-aef4-d2a40f64c457",
   "metadata": {},
   "outputs": [],
   "source": []
  },
  {
   "cell_type": "code",
   "execution_count": null,
   "id": "3b1f178b-ee75-4547-b388-7bb40c65d8de",
   "metadata": {},
   "outputs": [],
   "source": []
  },
  {
   "cell_type": "code",
   "execution_count": null,
   "id": "cdf7ad01-4588-42d0-91bf-4c7070bdfae5",
   "metadata": {},
   "outputs": [],
   "source": []
  },
  {
   "cell_type": "code",
   "execution_count": null,
   "id": "730709cd-77e0-4f9f-984c-a7add670cd50",
   "metadata": {},
   "outputs": [],
   "source": []
  },
  {
   "cell_type": "code",
   "execution_count": null,
   "id": "f71b92a5-ae17-4436-b62b-99411615f428",
   "metadata": {},
   "outputs": [],
   "source": []
  },
  {
   "cell_type": "code",
   "execution_count": null,
   "id": "dea443de-b7fa-4e1c-b69e-8c445957cee2",
   "metadata": {},
   "outputs": [],
   "source": []
  },
  {
   "cell_type": "code",
   "execution_count": null,
   "id": "9269a40b-6fc4-403f-aa69-7c68abe13449",
   "metadata": {},
   "outputs": [],
   "source": []
  },
  {
   "cell_type": "code",
   "execution_count": null,
   "id": "f87d5b83-7463-46b7-b05f-820b6758fb42",
   "metadata": {},
   "outputs": [],
   "source": []
  },
  {
   "cell_type": "code",
   "execution_count": null,
   "id": "71763f6f-7761-4154-b8b3-ac9db58ec424",
   "metadata": {},
   "outputs": [],
   "source": []
  },
  {
   "cell_type": "markdown",
   "id": "61344959-def1-4104-be10-0356f4fabf8d",
   "metadata": {},
   "source": [
    "# Test 1"
   ]
  },
  {
   "cell_type": "code",
   "execution_count": 2,
   "id": "dd3a39a7-a078-4c3f-8d4b-43d7425a84f6",
   "metadata": {},
   "outputs": [],
   "source": [
    "payoff_matrix = [\n",
    "    [(1, 52.12), (1, 44.75), (1, 36.13), (1, 29.12), (1, 23.83), (1, 22.83), (1, 55.57)],\n",
    "    [(0, 18.87), (0, 15.62), (0, 12.77), (0, 10.86), (0, 10.31), (0, 18.67), (0, 70.26)],\n",
    "    [(1, 19.57), (1, 16.30), (1, 13.37), (1, 11.34), (1, 10.79), (1, 19.05), (1, 69.34)]\n",
    "]"
   ]
  },
  {
   "cell_type": "code",
   "execution_count": 3,
   "id": "5bbfde68-f8a4-4b3f-8cd1-1301a8ac71c7",
   "metadata": {},
   "outputs": [
    {
     "name": "stdout",
     "output_type": "stream",
     "text": [
      "Nash Equilibrium(s) Found:\n",
      "Nash Equilibrium: (0, 5, (1, 22.83))\n"
     ]
    }
   ],
   "source": [
    "def find_nash_equilibrium(matrix):\n",
    "    nash_equilibria = []\n",
    "    row_min = [min(row) for row in matrix]\n",
    "    col_max = [max(col) for col in zip(*matrix)]\n",
    "\n",
    "    for i, row in enumerate(matrix):\n",
    "        for j, payoff in enumerate(row):\n",
    "            if payoff == row_min[i] and payoff == col_max[j]:\n",
    "                nash_equilibria.append((i, j, payoff))\n",
    "\n",
    "    return nash_equilibria\n",
    "\n",
    "payoff_matrix = [\n",
    "    [(1, 52.12), (1, 44.75), (1, 36.13), (1, 29.12), (1, 23.83), (1, 22.83), (1, 55.57)],\n",
    "    [(0, 18.87), (0, 15.62), (0, 12.77), (0, 10.86), (0, 10.31), (0, 18.67), (0, 70.26)],\n",
    "    [(1, 19.57), (1, 16.30), (1, 13.37), (1, 11.34), (1, 10.79), (1, 19.05), (1, 69.34)]\n",
    "]\n",
    "\n",
    "nash_equilibria = find_nash_equilibrium(payoff_matrix)\n",
    "\n",
    "if nash_equilibria:\n",
    "    print(\"Nash Equilibrium(s) Found:\")\n",
    "    for equilibrium in nash_equilibria:\n",
    "        print(\"Nash Equilibrium:\", equilibrium)\n",
    "else:\n",
    "    print(\"No Nash Equilibrium Found.\")\n"
   ]
  },
  {
   "cell_type": "markdown",
   "id": "ad133ba8-0185-4cea-b8cc-2f7914a69979",
   "metadata": {},
   "source": [
    "# Test 2\n",
    "### fail"
   ]
  },
  {
   "cell_type": "code",
   "execution_count": 4,
   "id": "2c43191d-288b-4965-8dbd-3e466c5d7a5c",
   "metadata": {},
   "outputs": [
    {
     "name": "stdout",
     "output_type": "stream",
     "text": [
      "Nash Equilibrium(s) Found:\n",
      "Nash Equilibrium: Player 0, Strategy 5, Correlation 1, RMSE 22.83\n"
     ]
    }
   ],
   "source": [
    "def find_nash_equilibrium(matrix):\n",
    "    \"\"\"\n",
    "    Finds Nash equilibria in a payoff matrix where each cell represents a tuple of (correlation, RMSE).\n",
    "    Returns a list of tuples representing the Nash equilibria.\n",
    "    \"\"\"\n",
    "    nash_equilibria = []\n",
    "    row_min = [min(row) for row in matrix]\n",
    "    col_max = [max(col) for col in zip(*matrix)]\n",
    "\n",
    "    for i, row in enumerate(matrix):\n",
    "        for j, payoff in enumerate(row):\n",
    "            if payoff == row_min[i] and payoff == col_max[j]:\n",
    "                nash_equilibria.append((i, j, payoff))\n",
    "\n",
    "    return nash_equilibria\n",
    "\n",
    "# Example payoff matrix\n",
    "payoff_matrix = [\n",
    "    [(1, 52.12), (1, 44.75), (1, 36.13), (1, 29.12), (1, 23.83), (1, 22.83), (1, 55.57)],\n",
    "    [(0, 18.87), (0, 15.62), (0, 12.77), (0, 10.86), (0, 10.31), (0, 18.67), (0, 70.26)],\n",
    "    [(1, 19.57), (1, 16.30), (1, 13.37), (1, 11.34), (1, 10.79), (1, 19.05), (1, 69.34)]\n",
    "]\n",
    "\n",
    "nash_equilibria = find_nash_equilibrium(payoff_matrix)\n",
    "\n",
    "if nash_equilibria:\n",
    "    print(\"Nash Equilibrium(s) Found:\")\n",
    "    for equilibrium in nash_equilibria:\n",
    "        print(f\"Nash Equilibrium: Player {equilibrium[0]}, Strategy {equilibrium[1]}, Correlation {equilibrium[2][0]}, RMSE {equilibrium[2][1]}\")\n",
    "else:\n",
    "    print(\"No Nash Equilibrium Found.\")\n"
   ]
  },
  {
   "cell_type": "markdown",
   "id": "182df985-5757-41db-95ae-c8ba56636260",
   "metadata": {},
   "source": [
    "# Test3\n",
    "### fail"
   ]
  },
  {
   "cell_type": "code",
   "execution_count": 5,
   "id": "23b4856f-8174-4c8f-9ca2-0659913be5ab",
   "metadata": {},
   "outputs": [
    {
     "name": "stdout",
     "output_type": "stream",
     "text": [
      "Nash Equilibrium(s) Found:\n",
      "Nash Equilibrium: (0, 0, (1, 52.12))\n",
      "Nash Equilibrium: (0, 1, (1, 44.75))\n",
      "Nash Equilibrium: (0, 2, (1, 36.13))\n",
      "Nash Equilibrium: (0, 3, (1, 29.12))\n",
      "Nash Equilibrium: (0, 4, (1, 23.83))\n",
      "Nash Equilibrium: (0, 5, (1, 22.83))\n",
      "Nash Equilibrium: (2, 6, (1, 69.34))\n"
     ]
    }
   ],
   "source": [
    "def find_nash_equilibrium(matrix):\n",
    "    nash_equilibria = []\n",
    "    row_min = [min(row) for row in matrix]\n",
    "    col_max = [max(col) for col in zip(*matrix)]\n",
    "\n",
    "    for i, row in enumerate(matrix):\n",
    "        for j, payoff in enumerate(row):\n",
    "            if payoff[0] == row_min[i][0] and payoff[1] == col_max[j][1]:\n",
    "                nash_equilibria.append((i, j, payoff))\n",
    "\n",
    "    return nash_equilibria\n",
    "\n",
    "payoff_matrix = [\n",
    "    [(1, 52.12), (1, 44.75), (1, 36.13), (1, 29.12), (1, 23.83), (1, 22.83), (1, 55.57)],\n",
    "    [(0, 18.87), (0, 15.62), (0, 12.77), (0, 10.86), (0, 10.31), (0, 18.67), (0, 70.26)],\n",
    "    [(1, 19.57), (1, 16.30), (1, 13.37), (1, 11.34), (1, 10.79), (1, 19.05), (1, 69.34)]\n",
    "]\n",
    "\n",
    "nash_equilibria = find_nash_equilibrium(payoff_matrix)\n",
    "\n",
    "if nash_equilibria:\n",
    "    print(\"Nash Equilibrium(s) Found:\")\n",
    "    for equilibrium in nash_equilibria:\n",
    "        print(\"Nash Equilibrium:\", equilibrium)\n",
    "else:\n",
    "    print(\"No Nash Equilibrium Found.\")\n"
   ]
  },
  {
   "cell_type": "markdown",
   "id": "802a56f2-e44f-4729-a164-061873b64fb6",
   "metadata": {},
   "source": [
    "# Test 4"
   ]
  },
  {
   "cell_type": "code",
   "execution_count": 6,
   "id": "283c9515-0979-41d9-82be-beeb1810e5e4",
   "metadata": {},
   "outputs": [
    {
     "name": "stdout",
     "output_type": "stream",
     "text": [
      "Nash Equilibrium(s) Found:\n",
      "Nash Equilibrium: (1, 0, (0, 18.87))\n",
      "Nash Equilibrium: (1, 1, (0, 15.62))\n",
      "Nash Equilibrium: (1, 2, (0, 12.77))\n",
      "Nash Equilibrium: (1, 3, (0, 10.86))\n",
      "Nash Equilibrium: (1, 4, (0, 10.31))\n",
      "Nash Equilibrium: (1, 5, (0, 18.67))\n",
      "Nash Equilibrium: (1, 6, (0, 70.26))\n"
     ]
    }
   ],
   "source": [
    "def find_nash_equilibrium(matrix):\n",
    "    nash_equilibria = []\n",
    "    row_max = [max(row) for row in matrix]\n",
    "    col_min = [min(col) for col in zip(*matrix)]\n",
    "\n",
    "    for i, row in enumerate(matrix):\n",
    "        for j, payoff in enumerate(row):\n",
    "            if payoff[1] == col_min[j][1] and payoff[0] == row_max[i][0]:\n",
    "                nash_equilibria.append((i, j, payoff))\n",
    "\n",
    "    return nash_equilibria\n",
    "\n",
    "payoff_matrix = [\n",
    "    [(1, 52.12), (1, 44.75), (1, 36.13), (1, 29.12), (1, 23.83), (1, 22.83), (1, 55.57)],\n",
    "    [(0, 18.87), (0, 15.62), (0, 12.77), (0, 10.86), (0, 10.31), (0, 18.67), (0, 70.26)],\n",
    "    [(1, 19.57), (1, 16.30), (1, 13.37), (1, 11.34), (1, 10.79), (1, 19.05), (1, 69.34)]\n",
    "]\n",
    "\n",
    "nash_equilibria = find_nash_equilibrium(payoff_matrix)\n",
    "\n",
    "if nash_equilibria:\n",
    "    print(\"Nash Equilibrium(s) Found:\")\n",
    "    for equilibrium in nash_equilibria:\n",
    "        print(\"Nash Equilibrium:\", equilibrium)\n",
    "else:\n",
    "    print(\"No Nash Equilibrium Found.\")\n"
   ]
  },
  {
   "cell_type": "code",
   "execution_count": 7,
   "id": "52b1ca47-f033-4b66-8542-f6d89f782420",
   "metadata": {},
   "outputs": [
    {
     "name": "stdout",
     "output_type": "stream",
     "text": [
      "Minimum value from Nash equilibria: (0, 10.31)\n"
     ]
    }
   ],
   "source": [
    "second_elements = [equilibrium[2] for equilibrium in nash_equilibria]\n",
    "\n",
    "# Find the minimum value\n",
    "minimum_value = min(second_elements)\n",
    "\n",
    "print(\"Minimum value from Nash equilibria:\", minimum_value)"
   ]
  },
  {
   "cell_type": "code",
   "execution_count": null,
   "id": "9a07e2b0-3701-4175-8b47-77db848f2c69",
   "metadata": {},
   "outputs": [],
   "source": []
  }
 ],
 "metadata": {
  "kernelspec": {
   "display_name": "Python 3 (ipykernel)",
   "language": "python",
   "name": "python3"
  },
  "language_info": {
   "codemirror_mode": {
    "name": "ipython",
    "version": 3
   },
   "file_extension": ".py",
   "mimetype": "text/x-python",
   "name": "python",
   "nbconvert_exporter": "python",
   "pygments_lexer": "ipython3",
   "version": "3.11.7"
  }
 },
 "nbformat": 4,
 "nbformat_minor": 5
}
