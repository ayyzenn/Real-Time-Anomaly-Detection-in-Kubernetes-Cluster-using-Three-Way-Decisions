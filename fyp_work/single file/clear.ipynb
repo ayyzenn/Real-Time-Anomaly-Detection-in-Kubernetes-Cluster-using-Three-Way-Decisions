{
 "cells": [
  {
   "cell_type": "code",
   "execution_count": null,
   "id": "a33d6fc0-8a61-4390-a70e-280a9f1160fd",
   "metadata": {},
   "outputs": [],
   "source": [
    "import csv\n",
    "# Open the CSV file in read mode\n",
    "with open('frontend_cpu_result.csv', 'r') as infile:\n",
    "    # Read the CSV file\n",
    "    reader = csv.reader(infile)\n",
    "    # Get the header\n",
    "    header = next(reader)\n",
    "    # Close the file\n",
    "\n",
    "# Open the CSV file in write mode\n",
    "with open('frontend_cpu_result.csv', 'w', newline='') as outfile:\n",
    "    # Write the header back to the file\n",
    "    writer = csv.writer(outfile)\n",
    "    writer.writerow(header)\n",
    "    # Close the file"
   ]
  }
 ],
 "metadata": {
  "kernelspec": {
   "display_name": "Python 3 (ipykernel)",
   "language": "python",
   "name": "python3"
  },
  "language_info": {
   "codemirror_mode": {
    "name": "ipython",
    "version": 3
   },
   "file_extension": ".py",
   "mimetype": "text/x-python",
   "name": "python",
   "nbconvert_exporter": "python",
   "pygments_lexer": "ipython3",
   "version": "3.11.7"
  }
 },
 "nbformat": 4,
 "nbformat_minor": 5
}
