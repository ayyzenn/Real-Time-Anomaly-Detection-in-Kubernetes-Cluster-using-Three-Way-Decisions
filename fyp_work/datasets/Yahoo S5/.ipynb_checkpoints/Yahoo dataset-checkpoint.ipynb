{
 "cells": [
  {
   "cell_type": "code",
   "execution_count": null,
   "id": "e7296068",
   "metadata": {},
   "outputs": [],
   "source": [
    "import pandas as pd\n",
    "import numpy as np\n",
    "import sklearn\n",
    "\n",
    "from sklearn import linear_model\n",
    "from sklearn import metrics\n",
    "from sklearn import preprocessing\n",
    "\n",
    "import matplotlib\n",
    "import matplotlib.pyplot as plt\n",
    "import seaborn as sns\n",
    "plt.style.use('ggplot')"
   ]
  },
  {
   "cell_type": "raw",
   "id": "9d125aee",
   "metadata": {},
   "source": [
    "with open('WebscopeReadMe.txt', 'r') as file:\n",
    "    readme_contents = file.read()\n",
    "\n",
    "print(readme_contents)"
   ]
  },
  {
   "cell_type": "raw",
   "id": "9a78338b",
   "metadata": {},
   "source": [
    "with open('README.txt', 'r') as file:\n",
    "    readme_contents = file.read()\n",
    "\n",
    "print(readme_contents)"
   ]
  },
  {
   "cell_type": "code",
   "execution_count": null,
   "id": "5415f68d",
   "metadata": {},
   "outputs": [],
   "source": [
    "data1=pd.read_csv(\"./A1Benchmark/real_1.csv\") #training data set1\n",
    "# data1['timestamp'] = pd.to_datetime(data1['timestamp'])\n",
    "data1.head(10)"
   ]
  },
  {
   "cell_type": "code",
   "execution_count": null,
   "id": "80f87184",
   "metadata": {},
   "outputs": [],
   "source": [
    "data2=pd.read_csv(\"./A2Benchmark/synthetic_1.csv\") #training data set1\n",
    "# data2['timestamp'] = pd.to_datetime(data2['timestamp'])\n",
    "data2.head(10)"
   ]
  },
  {
   "cell_type": "code",
   "execution_count": null,
   "id": "c770c4c8",
   "metadata": {},
   "outputs": [],
   "source": [
    "data3=pd.read_csv(\"./A3Benchmark/A3Benchmark-TS1.csv\") #training data set1\n",
    "data3['timestamps'] = pd.to_datetime(data3['timestamps'])\n",
    "data3.head(10)"
   ]
  },
  {
   "cell_type": "code",
   "execution_count": null,
   "id": "9f9ae0f9",
   "metadata": {},
   "outputs": [],
   "source": [
    "data4=pd.read_csv(\"./A4Benchmark/A4Benchmark-TS1.csv\") #training data set1\n",
    "data4['timestamps'] = pd.to_datetime(data4['timestamps'])\n",
    "data4.head(10)"
   ]
  },
  {
   "cell_type": "markdown",
   "id": "9fe5f426",
   "metadata": {},
   "source": [
    "# Visualization"
   ]
  },
  {
   "cell_type": "code",
   "execution_count": null,
   "id": "930488ab",
   "metadata": {
    "scrolled": false
   },
   "outputs": [],
   "source": [
    "data4.head(20)"
   ]
  },
  {
   "cell_type": "code",
   "execution_count": null,
   "id": "9254814a",
   "metadata": {
    "scrolled": false
   },
   "outputs": [],
   "source": [
    "import pandas as pd\n",
    "import matplotlib.pyplot as plt\n",
    "\n",
    "# Create a sample dataset\n",
    "# df = pd.read_csv(\"./A4Benchmark/A4Benchmark-TS1.csv\")\n",
    "# df = pd.read_csv(\"./file1.csv\")\n",
    "# df = pd.read_csv(\"./file2.csv\")\n",
    "\n",
    "df = pd.read_csv(\"./A1Benchmark/real_1.csv\")\n",
    "\n",
    "# Split the dataset into chunks\n",
    "chunks = []\n",
    "for i in range(0, len(df), 168):\n",
    "    chunks.append(df[i:i+168])\n",
    "\n",
    "fig, axes = plt.subplots(1, 1, figsize=(10, 5))\n",
    "for i in range(len(chunks)):\n",
    "    chunk = chunks[i]\n",
    "    ax = axes\n",
    "    ax.plot(chunk[\"timestamps\"], chunk[\"value\"])\n",
    "    ax.set_title(f\"Timestamps vs. Value - Chunk {i+1}\")\n",
    "    ax.set_xlabel(\"Timestamps\")\n",
    "    ax.set_ylabel(\"Value\")\n",
    "\n",
    "# Show the plots\n",
    "plt.tight_layout()\n",
    "plt.show()\n"
   ]
  },
  {
   "cell_type": "markdown",
   "id": "dab3edd9",
   "metadata": {},
   "source": [
    "# Another code"
   ]
  },
  {
   "cell_type": "code",
   "execution_count": null,
   "id": "0480a1ea",
   "metadata": {
    "scrolled": false
   },
   "outputs": [],
   "source": [
    "import pandas as pd\n",
    "import matplotlib.pyplot as plt\n",
    "\n",
    "df = pd.read_csv(\"./A4Benchmark/A4Benchmark-TS1.csv\")\n",
    "# df = pd.read_csv(\"./file1.csv\")\n",
    "# df = pd.read_csv(\"./file2.csv\")\n",
    "\n",
    "# Convert the 'Timestamps' column to datetime format\n",
    "df['timestamps'] = pd.to_datetime(df['timestamps'])\n",
    "\n",
    "# Set 'Timestamps' column as the index\n",
    "df.set_index('timestamps', inplace=True)\n",
    "\n",
    "# Plot the data\n",
    "plt.figure(figsize=(12, 6))\n",
    "\n",
    "# plt.plot(df['value'], label='Value')\n",
    "# plt.plot(df['anomaly'], label='Anomaly')\n",
    "# plt.plot(df['changepoint'], label='Changepoint')\n",
    "# plt.plot(df['trend'], label='Trend')\n",
    "# plt.plot(df['noise'], label='Noise')\n",
    "# plt.plot(df['seasonality1'], label='Seasonality1')\n",
    "# plt.plot(df['seasonality2'], label='Seasonality2')\n",
    "plt.plot(df['seasonality3'], label='Seasonality3')\n",
    "\n",
    "# Customize the plot\n",
    "plt.title('Dataset Graph')\n",
    "plt.xlabel('Timestamps')\n",
    "plt.ylabel('Values')\n",
    "plt.legend()\n",
    "plt.grid(True)\n",
    "plt.show()"
   ]
  },
  {
   "cell_type": "code",
   "execution_count": null,
   "id": "9796adfe",
   "metadata": {},
   "outputs": [],
   "source": [
    "import pandas as pd\n",
    "import matplotlib.pyplot as plt\n",
    "\n",
    "df = pd.read_csv(\"./A1Benchmark/real_1.csv\")\n",
    "\n",
    "# Convert the 'Timestamps' column to datetime format\n",
    "df['timestamp'] = pd.to_datetime(df['timestamp'])\n",
    "\n",
    "# Set 'Timestamps' column as the index\n",
    "df.set_index('timestamp', inplace=True)\n",
    "\n",
    "# Plot the data\n",
    "plt.figure(figsize=(12, 6))\n",
    "\n",
    "\n",
    "plt.plot(df['value'], label='Value')\n",
    "plt.plot(df['is_anomaly'], label='Anomaly')\n",
    "\n",
    "# Customize the plot\n",
    "plt.title('Dataset Graph')\n",
    "plt.xlabel('Timestamps')\n",
    "plt.ylabel('Values')\n",
    "plt.legend()\n",
    "plt.grid(True)\n",
    "plt.show()"
   ]
  },
  {
   "cell_type": "code",
   "execution_count": 1,
   "id": "48b12bac",
   "metadata": {},
   "outputs": [],
   "source": [
    "import seaborn as sns\n",
    "import pandas as pd\n",
    "import matplotlib.pyplot as plt\n",
    "\n",
    "df = pd.read_csv(\"./A1Benchmark/real_1.csv\")"
   ]
  },
  {
   "cell_type": "code",
   "execution_count": 2,
   "id": "51e24f76",
   "metadata": {},
   "outputs": [],
   "source": [
    "df['timestamp'] = pd.to_datetime(df['timestamp'])"
   ]
  },
  {
   "cell_type": "code",
   "execution_count": 3,
   "id": "30919598",
   "metadata": {},
   "outputs": [],
   "source": [
    "# df.set_index('timestamp', inplace=True)"
   ]
  },
  {
   "cell_type": "code",
   "execution_count": 4,
   "id": "38af01bd",
   "metadata": {},
   "outputs": [
    {
     "data": {
      "text/plain": [
       "<Axes: xlabel='timestamp', ylabel='value'>"
      ]
     },
     "execution_count": 4,
     "metadata": {},
     "output_type": "execute_result"
    },
    {
     "data": {
      "image/png": "[encoded data removed]",
      "text/plain": [
       "<Figure size 640x480 with 1 Axes>"
      ]
     },
     "metadata": {},
     "output_type": "display_data"
    }
   ],
   "source": [
    "anomaly=df.loc[df['is_anomaly'] == 1]\n",
    "sns.lineplot(x=df['timestamp'],y=df['value'])\n",
    "sns.scatterplot(x=anomaly['timestamp'], y=anomaly['value'], color='r')"
   ]
  },
  {
   "cell_type": "code",
   "execution_count": null,
   "id": "81635047",
   "metadata": {},
   "outputs": [],
   "source": []
  },
  {
   "cell_type": "code",
   "execution_count": null,
   "id": "7f26317d",
   "metadata": {},
   "outputs": [],
   "source": []
  },
  {
   "cell_type": "code",
   "execution_count": null,
   "id": "8af79f9a",
   "metadata": {},
   "outputs": [],
   "source": []
  },
  {
   "cell_type": "code",
   "execution_count": null,
   "id": "ec3f3608",
   "metadata": {},
   "outputs": [],
   "source": []
  },
  {
   "cell_type": "code",
   "execution_count": null,
   "id": "b7dd90e3",
   "metadata": {},
   "outputs": [],
   "source": [
    "df = pd.read_csv('./A1Bench_all.csv')\n",
    "df.is_anomaly.value_counts()"
   ]
  },
  {
   "cell_type": "code",
   "execution_count": null,
   "id": "a3ec65fa",
   "metadata": {},
   "outputs": [],
   "source": [
    "import pandas as pd\n",
    "from imblearn.under_sampling import RandomUnderSampler\n",
    "\n",
    "# Load your dataset\n",
    "# df = pd.read_csv('/kaggle/input/alldata-a1-all/A1Bench_all.csv')\n",
    "df = pd.read_csv('./A1Bench_all.csv')\n",
    "\n",
    "\n",
    "# Separate features and target variable\n",
    "X = df.drop('is_anomaly', axis=1)\n",
    "y = df['is_anomaly']\n",
    "\n",
    "# # Use RandomUnderSampler to undersample the majority class\n",
    "undersampler = RandomUnderSampler(random_state=42)\n",
    "X_resampled, y_resampled = undersampler.fit_resample(X, y)\n",
    "\n",
    "# Convert back to DataFrame and reset the index\n",
    "undersampled_df = pd.DataFrame(X_resampled, columns=X.columns)\n",
    "undersampled_df['is_anomaly'] = y_resampled\n",
    "undersampled_df = undersampled_df.reset_index(drop=True)\n",
    "\n",
    "# Concatenate timestamp and value columns from the original dataset\n",
    "# undersampled_df = pd.concat([undersampled_df, df[['timestamp', 'value']]], axis=1)\n",
    "\n",
    "# Check the new class distribution\n",
    "# print(pd.Series(undersampled_df).value_counts())\n",
    "undersampled_df"
   ]
  },
  {
   "cell_type": "code",
   "execution_count": null,
   "id": "635d0e62",
   "metadata": {},
   "outputs": [],
   "source": [
    "undersampled_df.is_anomaly.value_counts()"
   ]
  },
  {
   "cell_type": "code",
   "execution_count": null,
   "id": "685829b5",
   "metadata": {},
   "outputs": [],
   "source": [
    "undersampled_df.to_csv('under_A1_all.csv', sep= ',', index=False , encoding='utf-8')"
   ]
  },
  {
   "cell_type": "code",
   "execution_count": null,
   "id": "139a057a",
   "metadata": {},
   "outputs": [],
   "source": [
    "df = pd.read_csv(\"./under_A1_all.csv\")"
   ]
  },
  {
   "cell_type": "code",
   "execution_count": null,
   "id": "a27832ea",
   "metadata": {},
   "outputs": [],
   "source": [
    "df.is_anomaly.value_counts()"
   ]
  },
  {
   "cell_type": "code",
   "execution_count": null,
   "id": "3494c18a",
   "metadata": {},
   "outputs": [],
   "source": []
  },
  {
   "cell_type": "markdown",
   "id": "4a2dd999",
   "metadata": {},
   "source": [
    "# undersampling in time series data "
   ]
  },
  {
   "cell_type": "code",
   "execution_count": null,
   "id": "62fc5e27",
   "metadata": {},
   "outputs": [],
   "source": [
    "import pandas as pd\n",
    "from sklearn.model_selection import TimeSeriesSplit\n",
    "from imblearn.under_sampling import RandomUnderSampler\n",
    "\n",
    "# Load your dataset\n",
    "df = pd.read_csv('./A1Bench_all.csv')\n",
    "\n",
    "# Separate features and target variable\n",
    "X = df.drop('is_anomaly', axis=1)\n",
    "y = df['is_anomaly']\n",
    "\n",
    "# Use TimeSeriesSplit to create train-test splits\n",
    "tscv = TimeSeriesSplit(n_splits=5)  # You can adjust the number of splits\n",
    "for train_index, test_index in tscv.split(X):\n",
    "    X_train, X_test = X.iloc[train_index], X.iloc[test_index]\n",
    "    y_train, y_test = y.iloc[train_index], y.iloc[test_index]\n",
    "\n",
    "    # Use RandomUnderSampler on the training set\n",
    "    undersampler = RandomUnderSampler(random_state=42)\n",
    "    X_resampled, y_resampled = undersampler.fit_resample(X_train, y_train)\n",
    "\n",
    "    # Convert back to DataFrame and reset the index\n",
    "    undersampled_df = pd.DataFrame(X_resampled, columns=X.columns)\n",
    "    undersampled_df['is_anomaly'] = y_resampled\n",
    "    undersampled_df = undersampled_df.reset_index(drop=True)\n",
    "\n",
    "    # Now, you can use undersampled_df for training your model\n",
    "    # ...\n",
    "\n",
    "    # If you want to keep track of all the undersampled datasets, you can concatenate them\n",
    "    if 'concatenated_df' not in locals():\n",
    "        concatenated_df = undersampled_df.copy()\n",
    "    else:\n",
    "        concatenated_df = pd.concat([concatenated_df, undersampled_df], ignore_index=True)\n",
    "\n",
    "# Check the new class distribution\n",
    "print(pd.Series(concatenated_df['is_anomaly']).value_counts())\n"
   ]
  },
  {
   "cell_type": "code",
   "execution_count": null,
   "id": "65b7255f",
   "metadata": {},
   "outputs": [],
   "source": [
    "concatenated_df"
   ]
  },
  {
   "cell_type": "code",
   "execution_count": null,
   "id": "77be87ed",
   "metadata": {},
   "outputs": [],
   "source": []
  },
  {
   "cell_type": "code",
   "execution_count": null,
   "id": "e2fa1a1e",
   "metadata": {},
   "outputs": [],
   "source": []
  },
  {
   "cell_type": "code",
   "execution_count": null,
   "id": "47bbcd11",
   "metadata": {},
   "outputs": [],
   "source": []
  },
  {
   "cell_type": "code",
   "execution_count": null,
   "id": "6862bc0b",
   "metadata": {},
   "outputs": [],
   "source": []
  },
  {
   "cell_type": "code",
   "execution_count": null,
   "id": "04b8a29e",
   "metadata": {},
   "outputs": [],
   "source": []
  },
  {
   "cell_type": "code",
   "execution_count": null,
   "id": "dc8a4900",
   "metadata": {},
   "outputs": [],
   "source": []
  },
  {
   "cell_type": "code",
   "execution_count": null,
   "id": "65b29f70",
   "metadata": {},
   "outputs": [],
   "source": []
  },
  {
   "cell_type": "code",
   "execution_count": null,
   "id": "654ddc02",
   "metadata": {},
   "outputs": [],
   "source": []
  }
 ],
 "metadata": {
  "kernelspec": {
   "display_name": "Python 3 (ipykernel)",
   "language": "python",
   "name": "python3"
  },
  "language_info": {
   "codemirror_mode": {
    "name": "ipython",
    "version": 3
   },
   "file_extension": ".py",
   "mimetype": "text/x-python",
   "name": "python",
   "nbconvert_exporter": "python",
   "pygments_lexer": "ipython3",
   "version": "3.11.5"
  }
 },
 "nbformat": 4,
 "nbformat_minor": 5
}
