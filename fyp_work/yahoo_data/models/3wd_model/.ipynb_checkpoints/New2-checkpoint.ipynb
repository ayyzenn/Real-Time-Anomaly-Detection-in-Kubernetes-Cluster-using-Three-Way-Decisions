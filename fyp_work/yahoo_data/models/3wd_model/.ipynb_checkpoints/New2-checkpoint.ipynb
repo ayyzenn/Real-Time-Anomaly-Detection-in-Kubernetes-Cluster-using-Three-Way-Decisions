{
 "cells": [
  {
   "cell_type": "code",
   "execution_count": null,
   "id": "53fc5e05-e793-4fc1-96ed-12db2310cf4c",
   "metadata": {
    "scrolled": true
   },
   "outputs": [],
   "source": [
    "import pandas as pd\n",
    "pd.set_option('display.max_rows', None)\n",
    "df = pd.read_csv(\"./dataset/A4Benchmark/A4Benchmark-TS1.csv\")\n",
    "# df = pd.read_csv(\"./dataset/A4Benchmark/test.csv\") \n",
    "\n",
    "#print data\n",
    "df['timestamps'] = pd.to_datetime(df['timestamps'], unit='s')\n",
    "df"
   ]
  },
  {
   "cell_type": "markdown",
   "id": "9ee3a8f0-4e62-4d01-b881-054579f56a32",
   "metadata": {},
   "source": [
    "# standard deviation"
   ]
  },
  {
   "cell_type": "code",
   "execution_count": null,
   "id": "09bfc0a6-edcd-4a74-b9d5-b5b720c52822",
   "metadata": {},
   "outputs": [],
   "source": [
    "def sliding_window_std(lst, window_size):\n",
    "    results = []\n",
    "    \n",
    "    for i, num in enumerate(lst):\n",
    "        # Calculate the window boundaries\n",
    "        start_index = max(0, i - window_size // 2)\n",
    "        end_index = min(len(lst), i + window_size // 2 + 1)\n",
    "        \n",
    "        # Get the numbers within the window\n",
    "        window = lst[start_index:end_index]\n",
    "        \n",
    "        # Calculate the average of the window\n",
    "        avg = sum(window) / len(window)\n",
    "        \n",
    "        # Calculate the squared differences from the average\n",
    "        squared_diffs = [(avg - n) ** 2 for n in window]\n",
    "        \n",
    "        # Calculate the sum of squared differences\n",
    "        sum_squared_diffs = sum(squared_diffs)\n",
    "        \n",
    "        # Calculate the standard deviation of the window\n",
    "        std_dev = (sum_squared_diffs / len(window)) ** 0.5\n",
    "        \n",
    "        # Append the result to the results list\n",
    "        results.append((num, window, std_dev))\n",
    "        \n",
    "    return results\n",
    "\n",
    "lst = [509.276632, 557.008664, 619.458683, 623.929433, 633.684138, 653.559915, 566.842374, 774.303327, 531.359225, 452.040120,\n",
    "       472.528354, 491.361270, 539.037251, 591.125394]\n",
    "window_size = 5\n",
    "\n",
    "std_devs = sliding_window_std(lst, window_size)\n",
    "for num, window, std_dev in std_devs:\n",
    "    print(f\"{num}, {window} -> {std_dev}\")"
   ]
  },
  {
   "cell_type": "markdown",
   "id": "4b5d624c-5ca7-402b-a23d-04c0e6f91482",
   "metadata": {},
   "source": [
    "# converting the lst into datafram"
   ]
  },
  {
   "cell_type": "code",
   "execution_count": null,
   "id": "c3ce53d5-02e8-4aaf-a560-cc5986486cc4",
   "metadata": {},
   "outputs": [],
   "source": [
    "import pandas as pd\n",
    "\n",
    "def sliding_window_std(df, column_name, window_size):\n",
    "    results = []\n",
    "    \n",
    "    for i in range(len(df)):\n",
    "        # Calculate the window boundaries\n",
    "        start_index = max(0, i - window_size // 2)\n",
    "        end_index = min(len(df), i + window_size // 2 + 1)\n",
    "        \n",
    "        # Get the numbers within the window\n",
    "        window = df[column_name][start_index:end_index]\n",
    "        \n",
    "        # Calculate the average of the window\n",
    "        avg = window.mean()\n",
    "        \n",
    "        # Calculate the squared differences from the average\n",
    "        squared_diffs = [(avg - n) ** 2 for n in window]\n",
    "        \n",
    "        # Calculate the sum of squared differences\n",
    "        sum_squared_diffs = sum(squared_diffs)\n",
    "        \n",
    "        # Calculate the standard deviation of the window\n",
    "        std_dev = (sum_squared_diffs / len(window)) ** 0.5\n",
    "        \n",
    "        # Append the result to the results list\n",
    "        results.append((df.iloc[i][column_name], window.tolist(), std_dev))\n",
    "        \n",
    "    return results\n",
    "\n",
    "# Read data from CSV file into a dataframe\n",
    "# df = pd.read_csv(\"./dataset/A4Benchmark/test.csv\")\n",
    "df = pd.read_csv(\"./dataset/A4Benchmark/A4Benchmark-TS1.csv\")\n",
    "\n",
    "# Specify the column name containing the data\n",
    "column_name = 'value'  # Replace 'your_column_name' with the actual column name\n",
    "\n",
    "window_size = 5\n",
    "\n",
    "std_devs = sliding_window_std(df, column_name, window_size)\n",
    "i = 0\n",
    "for num, window, std_dev in std_devs:\n",
    "    print(f\"{i},{num}, {window} -> {std_dev}\")\n",
    "    i = i+1\n"
   ]
  },
  {
   "cell_type": "markdown",
   "id": "27955b85-1742-4ee7-84b3-63265859c842",
   "metadata": {},
   "source": [
    "# Final"
   ]
  },
  {
   "cell_type": "code",
   "execution_count": null,
   "id": "4e4acd2a-4a14-4be7-929e-0900b126cf86",
   "metadata": {},
   "outputs": [],
   "source": [
    "import pandas as pd\n",
    "\n",
    "def sliding_window_outliers(df, column_name, window_size, threshold):\n",
    "    outliers = []\n",
    "    \n",
    "    for i in range(len(df)):\n",
    "        # Calculate the window boundaries\n",
    "        start_index = max(0, i - window_size // 2)\n",
    "        end_index = min(len(df), i + window_size // 2 + 1)\n",
    "        \n",
    "        # Get the numbers within the window\n",
    "        window = df[column_name][start_index:end_index]\n",
    "        \n",
    "        # Calculate the average of the window\n",
    "        avg = window.mean()\n",
    "        \n",
    "        # Calculate the standard deviation of the window\n",
    "        std_dev = window.std()\n",
    "        \n",
    "        # Calculate the range based on the threshold\n",
    "        lower_bound = avg - (threshold * std_dev)\n",
    "        upper_bound = avg + (threshold * std_dev)\n",
    "\n",
    "        print(\"Lower bound:\",lower_bound)\n",
    "        print(\"Upper bound:\",upper_bound)\n",
    "\n",
    "        # Check for outliers within the window\n",
    "        for num in window:\n",
    "            print(i, \" : \",num)\n",
    "            # i +=1\n",
    "            if num < lower_bound or num > upper_bound:\n",
    "                outliers.append((i, num))\n",
    "                \n",
    "    return outliers\n",
    "\n",
    "def actual_anomaly(df):\n",
    "    anomaly_rows = []\n",
    "\n",
    "    # Iterate over each row in the DataFrame\n",
    "    for i, row in df.iterrows():\n",
    "        if row['anomaly'] == 1:\n",
    "            # Append a tuple containing the row number and the value from the 'anomaly' column to the result list\n",
    "            anomaly_rows.append((i, row['value']))\n",
    "    # print(anomaly_rows)\n",
    "    return anomaly_rows\n",
    "\n",
    "\n",
    "if __name__ == \"__main__\":\n",
    "    # df = pd.read_csv(\"./dataset/A4Benchmark/test.csv\")\n",
    "    df = pd.read_csv(\"./dataset/A4Benchmark/A4Benchmark-TS1.csv\")\n",
    "    \n",
    "    # Specify the column name containing the data\n",
    "    column_name = 'value'\n",
    "    \n",
    "    window_size = 6\n",
    "    threshold = 2  # Adjust the threshold as needed (e.g., 1, 2, 3)\n",
    "    \n",
    "    outliers = sliding_window_outliers(df, column_name, window_size, threshold)\n",
    "    actual = actual_anomaly(df)"
   ]
  },
  {
   "cell_type": "code",
   "execution_count": null,
   "id": "27191dba-f3fc-4dfc-824e-69a6425784cf",
   "metadata": {},
   "outputs": [],
   "source": [
    "for i, outlier in outliers:\n",
    "    print(f\"Index: {i}, Outlier: {outlier}\")"
   ]
  },
  {
   "cell_type": "code",
   "execution_count": null,
   "id": "f6fe3c2d-b871-4b8c-a291-41fa475ced9c",
   "metadata": {},
   "outputs": [],
   "source": [
    "len(outliers)"
   ]
  },
  {
   "cell_type": "markdown",
   "id": "aaed496f-cbe7-4ef7-89fb-d13fc9c0b707",
   "metadata": {},
   "source": [
    "# Actual Anomalies "
   ]
  },
  {
   "cell_type": "code",
   "execution_count": null,
   "id": "2939b854-6e9b-4719-9e02-08c8a3eb54d9",
   "metadata": {},
   "outputs": [],
   "source": [
    "print(actual)"
   ]
  },
  {
   "cell_type": "code",
   "execution_count": null,
   "id": "e2f3ac57-b5ad-427a-b097-f75575c82d18",
   "metadata": {},
   "outputs": [],
   "source": [
    "len(actual)"
   ]
  },
  {
   "cell_type": "code",
   "execution_count": null,
   "id": "2a3936e3-885e-4a61-a4b0-a0e19494aff0",
   "metadata": {},
   "outputs": [],
   "source": [
    "# Extract values from outliers list\n",
    "outliers_values = set([value for _, value in outliers])\n",
    "\n",
    "# Find missing values in actual list\n",
    "missing_values = [(index, value) for index, value in actual if value not in outliers_values]\n",
    "\n",
    "# Print missing values\n",
    "if missing_values:\n",
    "    print(\"Missing values in outliers list:\")\n",
    "    for index, value in missing_values:\n",
    "        print(f\"Index: {index}, Value: {value}\")\n",
    "else:\n",
    "    print(\"All values in the actual list exist in the outliers list.\")"
   ]
  },
  {
   "cell_type": "code",
   "execution_count": null,
   "id": "d64357ed-c49f-4e00-8c1e-763ec0bab8f4",
   "metadata": {},
   "outputs": [],
   "source": [
    "# removing the duplicate.\n",
    "final_result = []\n",
    "my_set = set()\n",
    "\n",
    "for i in outliers:\n",
    "    my_set.add(i[1])\n",
    "\n",
    "for i in outliers:\n",
    "    if i[1] in my_set:\n",
    "        final_result.append(i)\n",
    "        my_set.remove(i[1])"
   ]
  },
  {
   "cell_type": "code",
   "execution_count": null,
   "id": "f76e3908-9346-40b2-aea7-2e85f0040bc3",
   "metadata": {},
   "outputs": [],
   "source": [
    "final_result"
   ]
  },
  {
   "cell_type": "code",
   "execution_count": null,
   "id": "c08f4bc2-f364-422a-948e-d385054aa67d",
   "metadata": {},
   "outputs": [],
   "source": [
    "len(final_result)"
   ]
  },
  {
   "cell_type": "code",
   "execution_count": null,
   "id": "18ee14f5-82f7-406f-be00-24bbc1208f31",
   "metadata": {},
   "outputs": [],
   "source": [
    "actual"
   ]
  },
  {
   "cell_type": "code",
   "execution_count": null,
   "id": "3764adf0-2d11-489b-975a-3fe9449fb6da",
   "metadata": {},
   "outputs": [],
   "source": [
    "# removing the garbage values\n",
    "final_result_2 = []\n",
    "\n",
    "for i in final_result:\n",
    "    for j in actual:\n",
    "        if i[1] == j[1]:\n",
    "            final_result_2.append(i)\n",
    "            continue"
   ]
  },
  {
   "cell_type": "code",
   "execution_count": null,
   "id": "c7c7be9c-293d-4d2c-8f7a-52039520b637",
   "metadata": {},
   "outputs": [],
   "source": [
    "final_result_2"
   ]
  },
  {
   "cell_type": "code",
   "execution_count": null,
   "id": "bef9dc70-159b-43a7-8bbc-dfe12a596c6f",
   "metadata": {},
   "outputs": [],
   "source": [
    "len(final_result_2)"
   ]
  },
  {
   "cell_type": "markdown",
   "id": "e1d32301-a22f-4576-89c8-e12c99436104",
   "metadata": {},
   "source": [
    "# ======================================================================"
   ]
  },
  {
   "cell_type": "markdown",
   "id": "feb4be7e-005d-448b-b868-dd4d48118ca8",
   "metadata": {},
   "source": [
    "# final final"
   ]
  },
  {
   "cell_type": "code",
   "execution_count": null,
   "id": "2a015f0b-9dcf-48fc-95d4-6817be372668",
   "metadata": {},
   "outputs": [],
   "source": [
    "def sliding_window_std(lst, window_size, threshold):\n",
    "    results = []\n",
    "    stored_values = []  # List to store values that exceed the threshold\n",
    "\n",
    "    for i, num in enumerate(lst):\n",
    "        # Calculate the window boundaries\n",
    "        start_index = max(0, i - window_size // 2)\n",
    "        end_index = min(len(lst), i + window_size // 2 + 1)\n",
    "        \n",
    "        # Get the numbers within the window\n",
    "        window = lst[start_index:end_index]\n",
    "        # Calculate the average of the window\n",
    "        avg = sum(window) / len(window)\n",
    "        \n",
    "        # Calculate the squared differences from the average\n",
    "        squared_diffs = [(avg - n) ** 2 for n in window]\n",
    "        \n",
    "        # Calculate the sum of squared differences\n",
    "        sum_squared_diffs = sum(squared_diffs)\n",
    "        \n",
    "        # Calculate the standard deviation of the window\n",
    "        std_dev = (sum_squared_diffs / len(window)) ** 0.5\n",
    "        \n",
    "        # Append the result to the results list\n",
    "        results.append((num, window, std_dev))\n",
    "\n",
    "        if len(results) >= 2:\n",
    "            avg_prev_results = (results[-2][2] + results[-1][2]) / 2\n",
    "            threshold_value = avg_prev_results + threshold\n",
    "\n",
    "            if std_dev > threshold_value:\n",
    "                stored_values.append((i - window_size // 2, window[-1]))\n",
    "                \n",
    "        # print('stored values:', stored_values)\n",
    "    return results, stored_values\n",
    "\n",
    "# lst = [4, 5, 6, 7, 9, 10, 8, 120, 14, 15, 17, 2, 19, 20, 21, 18, 17]\n",
    "lst = [509.276632, 557.008664, 619.458683, 623.929433, 633.684138, 653.559915, 566.842374, 774.303327, 531.359225, \n",
    "       452.040120, 472.528354, 491.361270, 539.037251, 591.125394]\n",
    "\n",
    "window_size = 5\n",
    "threshold = 5  # Adjust threshold as needed\n",
    "\n",
    "std_devs, anomalies = sliding_window_std(lst, window_size, threshold)\n",
    "for num, window, std_dev in std_devs:\n",
    "    print(f\"Number: {num}, Window: {window}, Standard Deviation: {std_dev}\")\n",
    "print(\"########################################################\")\n",
    "print(\"Anomalies:\")\n",
    "for win_num, value in anomalies:\n",
    "    print(f\"Window number: {win_num}, Value: {value}\")"
   ]
  },
  {
   "cell_type": "code",
   "execution_count": null,
   "id": "4b69ec13-44e8-47e3-abcb-e57f418b378b",
   "metadata": {},
   "outputs": [],
   "source": []
  },
  {
   "cell_type": "markdown",
   "id": "ba2c0534-d369-4db6-bcf4-e1b2e6dbdabb",
   "metadata": {},
   "source": [
    "# another test"
   ]
  },
  {
   "cell_type": "code",
   "execution_count": null,
   "id": "8c3a1745-cb7b-4ffa-955a-3a5d89ea2882",
   "metadata": {},
   "outputs": [],
   "source": [
    "def find_normal_values(original_lst, anomaly_lst):\n",
    "    normal_values = []\n",
    "    for num in original_lst:\n",
    "        is_anomaly = False\n",
    "        for win_num, value in anomaly_lst:\n",
    "            if num == value:\n",
    "                is_anomaly = True\n",
    "                break\n",
    "        if not is_anomaly:\n",
    "            normal_values.append(num)\n",
    "    return normal_values\n",
    "\n",
    "# Your existing code\n",
    "def sliding_window_std(lst, window_size, threshold):\n",
    "    results = []\n",
    "    stored_values = []  # List to store values that exceed the threshold\n",
    "\n",
    "    for i, num in enumerate(lst):\n",
    "        # Calculate the window boundaries\n",
    "        start_index = max(0, i - window_size // 2)\n",
    "        end_index = min(len(lst), i + window_size // 2 + 1)\n",
    "        \n",
    "        # Get the numbers within the window\n",
    "        window = lst[start_index:end_index]\n",
    "        # Calculate the average of the window\n",
    "        avg = sum(window) / len(window)\n",
    "        \n",
    "        # Calculate the squared differences from the average\n",
    "        squared_diffs = [(avg - n) ** 2 for n in window]\n",
    "        \n",
    "        # Calculate the sum of squared differences\n",
    "        sum_squared_diffs = sum(squared_diffs)\n",
    "        \n",
    "        # Calculate the standard deviation of the window\n",
    "        std_dev = (sum_squared_diffs / len(window)) ** 0.5\n",
    "        \n",
    "        # Append the result to the results list\n",
    "        results.append((num, window, std_dev))\n",
    "\n",
    "        if len(results) >= 2:\n",
    "            avg_prev_results = (results[-2][2] + results[-1][2]) / 2\n",
    "            threshold_value = avg_prev_results + threshold\n",
    "\n",
    "            if std_dev > threshold_value:\n",
    "                stored_values.append((i - window_size // 2, window[-1]))\n",
    "                \n",
    "    return results, stored_values\n",
    "\n",
    "# Test data\n",
    "lst = [509.276632, 557.008664, 619.458683, 623.929433, 633.684138, 653.559915, 566.842374, 774.303327, 531.359225, \n",
    "       452.040120, 472.528354, 491.361270, 539.037251, 591.125394]\n",
    "\n",
    "window_size = 5\n",
    "threshold = 5  # Adjust threshold as needed\n",
    "\n",
    "# Get anomalies and standard deviations\n",
    "std_devs, anomalies = sliding_window_std(lst, window_size, threshold)\n",
    "\n",
    "# Print anomalies\n",
    "print(\"Anomalies:\")\n",
    "for win_num, value in anomalies:\n",
    "    print(f\"Window number: {win_num}, Value: {value}\")\n",
    "\n",
    "# Find normal values\n",
    "normal_values = find_normal_values(lst, anomalies)\n",
    "\n",
    "# Print normal values\n",
    "print(\"Normal Values:\")\n",
    "print(normal_values)"
   ]
  },
  {
   "cell_type": "markdown",
   "id": "d5f6149b-c2de-4aeb-81f2-31db820781dc",
   "metadata": {},
   "source": [
    "# into df"
   ]
  },
  {
   "cell_type": "code",
   "execution_count": null,
   "id": "8df44539-a386-4c3d-89c3-522c6369aeb4",
   "metadata": {},
   "outputs": [],
   "source": [
    "import pandas as pd\n",
    "\n",
    "def find_normal_values(original_lst, anomaly_lst):\n",
    "    normal_values = []\n",
    "    for num in original_lst:\n",
    "        is_anomaly = False\n",
    "        for win_num, value in anomaly_lst:\n",
    "            if num == value:\n",
    "                is_anomaly = True\n",
    "                break\n",
    "        if not is_anomaly:\n",
    "            normal_values.append(num)\n",
    "    return normal_values\n",
    "\n",
    "def sliding_window_std(df, column_name, window_size, threshold):\n",
    "    results = []\n",
    "    stored_values = []  # List to store values that exceed the threshold\n",
    "\n",
    "    for i in range(len(df)):\n",
    "        # Calculate the window boundaries\n",
    "        start_index = max(0, i - window_size // 2)\n",
    "        end_index = min(len(df), i + window_size // 2 + 1)\n",
    "        \n",
    "        # Get the numbers within the window\n",
    "        window = df[column_name].iloc[start_index:end_index]\n",
    "        \n",
    "        # Calculate the standard deviation of the window\n",
    "        std_dev = window.std()\n",
    "        \n",
    "        # Append the result to the results list\n",
    "        results.append((df.iloc[i][column_name], window.tolist(), std_dev))\n",
    "\n",
    "        if len(results) >= 2:\n",
    "            avg_prev_results = (results[-2][2] + results[-1][2]) / 2\n",
    "            threshold_value = avg_prev_results + threshold\n",
    "\n",
    "            if std_dev > threshold_value:\n",
    "                stored_values.append((i - window_size // 2, window.iloc[-1]))\n",
    "                \n",
    "    return results, stored_values\n",
    "\n",
    "# Read data from CSV file into a dataframe\n",
    "# df = pd.read_csv(\"./dataset/A4Benchmark/test.csv\")\n",
    "df = pd.read_csv(\"./dataset/A4Benchmark/A4Benchmark-TS1.csv\")\n",
    "\n",
    "# Specify the column name containing the data\n",
    "column_name = 'value'  # Replace 'your_column_name' with the actual column name\n",
    "\n",
    "window_size = 5\n",
    "threshold = 10  # Adjust threshold as needed\n",
    "\n",
    "std_devs, anomalies = sliding_window_std(df, column_name, window_size, threshold)\n",
    "\n",
    "# Print anomalies\n",
    "print(\"Anomalies:\")\n",
    "for win_num, value in anomalies:\n",
    "    print(f\"Window number: {win_num}, Value: {value}\")\n",
    "\n",
    "# Find normal values\n",
    "normal_values = find_normal_values(df[column_name], anomalies)\n",
    "\n",
    "# Print normal values\n",
    "print(\"Normal Values:\")\n",
    "print(normal_values)\n"
   ]
  },
  {
   "cell_type": "code",
   "execution_count": null,
   "id": "4dac62e6-20ad-4fec-8f54-5d77db55b46b",
   "metadata": {},
   "outputs": [],
   "source": []
  },
  {
   "cell_type": "markdown",
   "id": "9a360a68-637d-4ca3-9c61-acfb4536cdf4",
   "metadata": {},
   "source": [
    "# another one"
   ]
  },
  {
   "cell_type": "code",
   "execution_count": 57,
   "id": "be9dd708-64e4-4898-a21f-0f3870604a00",
   "metadata": {},
   "outputs": [],
   "source": [
    "import pandas as pd\n",
    "\n",
    "def find_normal_values(original_lst, anomaly_lst):\n",
    "    normal_values = []\n",
    "    for num in original_lst:\n",
    "        is_anomaly = False\n",
    "        for win_num, value in anomaly_lst:\n",
    "            if num == value:\n",
    "                is_anomaly = True\n",
    "                break\n",
    "        if not is_anomaly:\n",
    "            normal_values.append(num)\n",
    "    return normal_values"
   ]
  },
  {
   "cell_type": "code",
   "execution_count": 58,
   "id": "6015adaa-5613-47f2-8b13-3ad58c4f35e7",
   "metadata": {},
   "outputs": [],
   "source": [
    "def sliding_window_std(df, column_name, window_size, threshold):\n",
    "    results = []\n",
    "    problem_vals = []  # List to store values that exceed the threshold\n",
    "\n",
    "    for i in range(len(df)):\n",
    "        # Calculate the window boundaries\n",
    "        start_index = max(0, i - window_size // 2)\n",
    "        end_index = min(len(df), i + window_size // 2 + 1)\n",
    "        \n",
    "        # Get the numbers within the window\n",
    "        window = df[column_name].iloc[start_index:end_index]\n",
    "        \n",
    "        # Calculate the standard deviation of the window\n",
    "        std_dev = window.std()\n",
    "        \n",
    "        # Append the result to the results list\n",
    "        # result list conations 3 things (number, window,std of the window)\n",
    "        results.append((i,df.iloc[i][column_name], window.tolist(), std_dev))\n",
    "        print(results[i],'\\n')\n",
    "\n",
    "        if len(results) <= 2:\n",
    "            # print(\"Skipping iteration#\", i)\n",
    "            # print(\"##################################################\")\n",
    "            continue\n",
    "            \n",
    "        if len(results) >= 3:\n",
    "            # print(\"val1:\",results[-3][3])\n",
    "            # print(\"val2:\",results[-2][3])\n",
    "            # print(\"current std:\",std_dev)\n",
    "            # print(\"current iteration:\", i)\n",
    "            # print(\"##################################################\")\n",
    "\n",
    "            avg_prev_results = (results[-2][3] + results[-1][3]) / 2\n",
    "            threshold_value = avg_prev_results + threshold\n",
    "\n",
    "            if std_dev > threshold_value:\n",
    "                problem_vals.append((i - window_size // 2, window.iloc[-1]))\n",
    "\n",
    "            # print('Problem list:', problem_vals)\n",
    "    return results, problem_vals"
   ]
  },
  {
   "cell_type": "code",
   "execution_count": 59,
   "id": "17308a01-4c34-45be-9ce1-a0d6eed41724",
   "metadata": {},
   "outputs": [
    {
     "name": "stdout",
     "output_type": "stream",
     "text": [
      "(0, 2.88922459441453, [2.88922459441453, 112.492219013977, 131.097055735302], 69.27746663599947) \n",
      "\n",
      "(1, 112.492219013977, [2.88922459441453, 112.492219013977, 131.097055735302, 128.208835929804], 61.07138115024973) \n",
      "\n",
      "(2, 131.097055735302, [2.88922459441453, 112.492219013977, 131.097055735302, 128.208835929804, 121.639029429034], 54.348118668122154) \n",
      "\n",
      "(3, 128.208835929804, [112.492219013977, 131.097055735302, 128.208835929804, 121.639029429034, 114.006116387519], 8.282950160211199) \n",
      "\n",
      "(4, 121.639029429034, [131.097055735302, 128.208835929804, 121.639029429034, 114.006116387519, 74.1205617662663], 23.144936538964878) \n",
      "\n",
      "(5, 114.006116387519, [128.208835929804, 121.639029429034, 114.006116387519, 74.1205617662663, 28.8655901542432], 41.743537091858336) \n",
      "\n",
      "(6, 74.1205617662663, [121.639029429034, 114.006116387519, 74.1205617662663, 28.8655901542432, 7.52893206158677], 50.526804531948244) \n",
      "\n",
      "(7, 28.8655901542432, [114.006116387519, 74.1205617662663, 28.8655901542432, 7.52893206158677, -30.1812472650535], 56.43240109899145) \n",
      "\n",
      "(8, 7.52893206158677, [74.1205617662663, 28.8655901542432, 7.52893206158677, -30.1812472650535, 1.76948906468388], 38.56686513909283) \n",
      "\n",
      "(9, -30.1812472650535, [28.8655901542432, 7.52893206158677, -30.1812472650535, 1.76948906468388, -4.33168381373157], 21.330982738140076) \n",
      "\n",
      "(10, 1.76948906468388, [7.52893206158677, -30.1812472650535, 1.76948906468388, -4.33168381373157, 52.5682899539387], 30.013606636334867) \n",
      "\n",
      "(11, -4.33168381373157, [-30.1812472650535, 1.76948906468388, -4.33168381373157, 52.5682899539387, 101.537147158843], 52.583915919361594) \n",
      "\n",
      "(12, 52.5682899539387, [1.76948906468388, -4.33168381373157, 52.5682899539387, 101.537147158843, 122.812246515537], 57.27951853980261) \n",
      "\n",
      "(13, 101.537147158843, [-4.33168381373157, 52.5682899539387, 101.537147158843, 122.812246515537, 142.023324083775], 59.08738239211202) \n",
      "\n",
      "(14, 122.812246515537, [52.5682899539387, 101.537147158843, 122.812246515537, 142.023324083775, 109.571553410734], 33.41971612594548) \n",
      "\n",
      "(15, 142.023324083775, [101.537147158843, 122.812246515537, 142.023324083775, 109.571553410734, 86.0321408409741], 21.25571555241796) \n",
      "\n",
      "(16, 109.571553410734, [122.812246515537, 142.023324083775, 109.571553410734, 86.0321408409741, 53.8431532975761], 34.14209676555221) \n",
      "\n",
      "(17, 86.0321408409741, [142.023324083775, 109.571553410734, 86.0321408409741, 53.8431532975761, -20.3040598349879], 61.920438168017064) \n",
      "\n",
      "(18, 53.8431532975761, [109.571553410734, 86.0321408409741, 53.8431532975761, -20.3040598349879, -56.1939623171587], 70.5235718341462) \n",
      "\n",
      "(19, -20.3040598349879, [86.0321408409741, 53.8431532975761, -20.3040598349879, -56.1939623171587, -30.9128949588795], 60.4471888944684) \n",
      "\n",
      "(20, -56.1939623171587, [53.8431532975761, -20.3040598349879, -56.1939623171587, -30.9128949588795, -9.67682815173433], 40.9828433584094) \n",
      "\n",
      "(21, -30.9128949588795, [-20.3040598349879, -56.1939623171587, -30.9128949588795, -9.67682815173433, 34.0373730735873], 33.159969187638225) \n",
      "\n",
      "(22, -9.67682815173433, [-56.1939623171587, -30.9128949588795, -9.67682815173433, 34.0373730735873, 98.888466201236], 60.99842197787159) \n",
      "\n",
      "(23, 34.0373730735873, [-30.9128949588795, -9.67682815173433, 34.0373730735873, 98.888466201236, 157.437734189806], 77.93581409385301) \n",
      "\n",
      "(24, 98.888466201236, [-9.67682815173433, 34.0373730735873, 98.888466201236, 157.437734189806, 233.351541401043], 96.72593046329965) \n",
      "\n",
      "(25, 157.437734189806, [34.0373730735873, 98.888466201236, 157.437734189806, 233.351541401043, 267.954075414277], 95.69276187082305) \n",
      "\n",
      "(26, 233.351541401043, [98.888466201236, 157.437734189806, 233.351541401043, 267.954075414277, 264.280180404361], 73.82595221571758) \n",
      "\n",
      "(27, 267.954075414277, [157.437734189806, 233.351541401043, 267.954075414277, 264.280180404361, 212.082013377767], 45.19082634716346) \n",
      "\n",
      "(28, 264.280180404361, [233.351541401043, 267.954075414277, 264.280180404361, 212.082013377767, 203.605166216089], 29.364166590377934) \n",
      "\n",
      "(29, 212.082013377767, [267.954075414277, 264.280180404361, 212.082013377767, 203.605166216089, 130.503216853067], 55.92045216222238) \n",
      "\n",
      "(30, 203.605166216089, [264.280180404361, 212.082013377767, 203.605166216089, 130.503216853067, 134.657994770744], 56.54228428403722) \n",
      "\n",
      "(31, 130.503216853067, [212.082013377767, 203.605166216089, 130.503216853067, 134.657994770744, 95.0019675347109], 50.5824259826288) \n",
      "\n",
      "(32, 134.657994770744, [203.605166216089, 130.503216853067, 134.657994770744, 95.0019675347109, 81.0214282020279], 47.586773677455746) \n",
      "\n",
      "(33, 95.0019675347109, [130.503216853067, 134.657994770744, 95.0019675347109, 81.0214282020279, 98.777627666103], 23.446148427762097) \n",
      "\n",
      "(34, 81.0214282020279, [134.657994770744, 95.0019675347109, 81.0214282020279, 98.777627666103, 128.759633645001], 23.037039575947368) \n",
      "\n",
      "(35, 98.777627666103, [95.0019675347109, 81.0214282020279, 98.777627666103, 128.759633645001, 167.050651165185], 34.32337282995546) \n",
      "\n",
      "(36, 128.759633645001, [81.0214282020279, 98.777627666103, 128.759633645001, 167.050651165185, 182.35395809606], 43.23274335742081) \n",
      "\n",
      "(37, 167.050651165185, [98.777627666103, 128.759633645001, 167.050651165185, 182.35395809606, 239.81240871275], 53.82246254645181) \n",
      "\n",
      "(38, 182.35395809606, [128.759633645001, 167.050651165185, 182.35395809606, 239.81240871275, 216.52636247528], 43.22155045095235) \n",
      "\n",
      "(39, 239.81240871275, [167.050651165185, 182.35395809606, 239.81240871275, 216.52636247528, 160.698163646608], 33.81786242470248) \n",
      "\n",
      "(40, 216.52636247528, [182.35395809606, 239.81240871275, 216.52636247528, 160.698163646608, 125.611945743825], 45.063381626447864) \n",
      "\n",
      "(41, 160.698163646608, [239.81240871275, 216.52636247528, 160.698163646608, 125.611945743825, 72.0289989506959], 67.90450085109057) \n",
      "\n",
      "(42, 125.611945743825, [216.52636247528, 160.698163646608, 125.611945743825, 72.0289989506959, 100.435743719923], 56.024761479372664) \n",
      "\n",
      "(43, 72.0289989506959, [160.698163646608, 125.611945743825, 72.0289989506959, 100.435743719923, 36.7209241169041], 47.75717078438446) \n",
      "\n",
      "(44, 100.435743719923, [125.611945743825, 72.0289989506959, 100.435743719923, 36.7209241169041, 76.3346157261772], 33.254075778865236) \n",
      "\n",
      "(45, 36.7209241169041, [72.0289989506959, 100.435743719923, 36.7209241169041, 76.3346157261772, 130.523127229938], 34.888315078748036) \n",
      "\n",
      "(46, 76.3346157261772, [100.435743719923, 36.7209241169041, 76.3346157261772, 130.523127229938, 199.04219908005], 61.10385808971474) \n",
      "\n",
      "(47, 130.523127229938, [36.7209241169041, 76.3346157261772, 130.523127229938, 199.04219908005, 245.243711771896], 85.64815560396802) \n",
      "\n",
      "(48, 199.04219908005, [76.3346157261772, 130.523127229938, 199.04219908005, 245.243711771896], 74.45025409537278) \n",
      "\n",
      "(49, 245.243711771896, [130.523127229938, 199.04219908005, 245.243711771896], 57.72096023090189) \n",
      "\n"
     ]
    }
   ],
   "source": [
    "# Read data from CSV file into a dataframe\n",
    "# df = pd.read_csv(\"./dataset/A4Benchmark/A4Benchmark-TS1.csv\")\n",
    "df = pd.read_csv(\"./dataset/A4Benchmark/test.csv\")\n",
    "\n",
    "# Specify the column name containing the data\n",
    "column_name = 'value'\n",
    "\n",
    "window_size = 5\n",
    "threshold = 10  # Adjust threshold as needed\n",
    "\n",
    "std_devs, anomalies = sliding_window_std(df, column_name, window_size, threshold)\n",
    "\n",
    "# # Print anomalies\n",
    "# print(\"Anomalies:\")\n",
    "# for row, win_num, value in anomalies:\n",
    "#     # print(f\"Window number: {win_num}, Value: {value}\")\n",
    "#     print(f\"Row no: {row}, Value: {value}\")\n",
    "\n",
    "# # Find normal values\n",
    "# normal_values = find_normal_values(df[column_name], anomalies)\n",
    "\n",
    "# # Print normal values\n",
    "# print(\"Normal Values:\")\n",
    "# print(normal_values)"
   ]
  },
  {
   "cell_type": "code",
   "execution_count": 60,
   "id": "600f1136-32d3-4ad3-9731-c44f4e0675e7",
   "metadata": {},
   "outputs": [],
   "source": [
    "def finding_row_number(original_lst, anomaly_lst):\n",
    "    rows = []\n",
    "    i = 1\n",
    "    for num in original_lst:\n",
    "        i +=1\n",
    "        for win_num, value in anomaly_lst:\n",
    "            if num == value:\n",
    "                rows.append((i,num))\n",
    "    return rows\n",
    "\n",
    "anomaly_row_list = finding_row_number(df[column_name], anomalies)"
   ]
  },
  {
   "cell_type": "code",
   "execution_count": 61,
   "id": "830c9de7-022a-46a8-a00d-a5bf3057bc59",
   "metadata": {},
   "outputs": [
    {
     "name": "stdout",
     "output_type": "stream",
     "text": [
      "[(15, 101.537147158843), (21, -20.3040598349879), (26, 98.888466201236), (33, 130.503216853067), (45, 72.0289989506959), (50, 199.04219908005), (51, 245.243711771896)]\n"
     ]
    }
   ],
   "source": [
    "print(anomaly_row_list)"
   ]
  },
  {
   "cell_type": "code",
   "execution_count": 62,
   "id": "9ef63732-5e75-4254-9c31-0b18c567beb9",
   "metadata": {},
   "outputs": [
    {
     "name": "stdout",
     "output_type": "stream",
     "text": [
      "7\n"
     ]
    }
   ],
   "source": [
    "print(len(anomaly_row_list))"
   ]
  },
  {
   "cell_type": "markdown",
   "id": "ba6fd62d-69d6-4009-b988-47dcdc5b57bd",
   "metadata": {},
   "source": [
    "# model"
   ]
  },
  {
   "cell_type": "code",
   "execution_count": null,
   "id": "eee28361-2cb4-4b81-82ee-c094088109c0",
   "metadata": {},
   "outputs": [],
   "source": [
    "anomaly_row_list\n",
    "\n",
    "# Categorize anomalies\n",
    "seasonal_12 = []\n",
    "anomalies = []\n",
    "\n",
    "for num in anomaly_row_list:\n",
    "    # print(num[0])\n",
    "    if num[0] % 12 == 0:  # If index is divisible by 12, consider as seasonal anomaly\n",
    "        seasonal_12.append(num)\n",
    "    else:\n",
    "        anomalies.append(num)"
   ]
  },
  {
   "cell_type": "code",
   "execution_count": null,
   "id": "2f98c16a-150c-4dc6-a179-09706fd436ce",
   "metadata": {},
   "outputs": [],
   "source": [
    "actual_anomalies\n",
    "\n",
    "# Categorize anomalies\n",
    "seasonal_168 = []\n",
    "actual_anomalies_2 = []\n",
    "\n",
    "for num in anomaly_row_list:\n",
    "    if num[0] % 168 == 0:\n",
    "        seasonal_anomalies_168.append(num)\n",
    "    else:\n",
    "        anomalies.append(num)"
   ]
  },
  {
   "cell_type": "markdown",
   "id": "669078b8-d9c8-4d8a-b6eb-b63556a4dfcd",
   "metadata": {},
   "source": [
    "# model test"
   ]
  },
  {
   "cell_type": "code",
   "execution_count": null,
   "id": "e437dc73-6511-45b4-a4c7-266df69ae5b9",
   "metadata": {},
   "outputs": [],
   "source": [
    "anomaly_row_list"
   ]
  },
  {
   "cell_type": "code",
   "execution_count": null,
   "id": "74f5f0f3-3b33-4a31-a0c8-d584d8ffa4cb",
   "metadata": {},
   "outputs": [],
   "source": [
    "# Categorize anomalies\n",
    "seasonal = []\n",
    "anomalies = []\n",
    "\n",
    "for num in anomaly_row_list:\n",
    "    if num[0] % 12 == 0: #or num[0] % 168 == 0:  # If index is divisible by 12, consider as seasonal anomaly\n",
    "        seasonal.append(num)\n",
    "    else:\n",
    "        anomalies.append(num)"
   ]
  },
  {
   "cell_type": "code",
   "execution_count": null,
   "id": "5ea312d3-67ef-41bd-9bcb-dcc10107688c",
   "metadata": {},
   "outputs": [],
   "source": [
    "print(seasonal)"
   ]
  },
  {
   "cell_type": "code",
   "execution_count": null,
   "id": "8da9d5e0-c232-48f7-a537-233fdbd25c90",
   "metadata": {
    "scrolled": true
   },
   "outputs": [],
   "source": [
    "print(anomalies)"
   ]
  },
  {
   "cell_type": "code",
   "execution_count": null,
   "id": "06049869-fc97-434a-b96e-1f1a42d617c2",
   "metadata": {},
   "outputs": [],
   "source": []
  },
  {
   "cell_type": "markdown",
   "id": "ed79eef4-2031-4f9b-93f4-435575fe3c5d",
   "metadata": {},
   "source": [
    "# testing by rimsha"
   ]
  },
  {
   "cell_type": "code",
   "execution_count": null,
   "id": "8dfa1c93-09d6-4a14-a9e4-b186880d979d",
   "metadata": {},
   "outputs": [],
   "source": [
    "import pandas as pd\n",
    "\n",
    "def find_normal_values(original_lst, anomaly_lst):\n",
    "    normal_values = []\n",
    "    for num in original_lst:\n",
    "        is_anomaly = False\n",
    "        for win_num, value in anomaly_lst:\n",
    "            if num == value:\n",
    "                is_anomaly = True\n",
    "                break\n",
    "        if not is_anomaly:\n",
    "            normal_values.append(num)\n",
    "    return normal_values\n",
    "\n",
    "def sliding_window_std(df, column_name, window_size, threshold):\n",
    "    results = []\n",
    "\n",
    "    for i in range(len(df)):\n",
    "        # Calculate the window boundaries\n",
    "        start_index = max(0, i - window_size // 2)\n",
    "        end_index = min(len(df), i + window_size // 2 + 1)\n",
    " \n",
    "        # Get the numbers within the window\n",
    "        window = df[column_name].iloc[start_index:end_index]\n",
    "        \n",
    "        # Calculate the standard deviation of the window\n",
    "        std_dev = window.std()\n",
    "        \n",
    "        # Append the result to the results list\n",
    "        results.append((df.iloc[i][column_name], window.tolist(), std_dev))\n",
    "    return results\n",
    "\n",
    "def test(results, window_size):\n",
    "    print(len(results))\n",
    "    stored_values = []\n",
    "    count = 0\n",
    "    for i in range(len(results)):\n",
    "        if  i <= len(results)-2:\n",
    "            avg_prev_results = (results[i][2] + results[i+1][2]) / 2\n",
    "            threshold_value = avg_prev_results + threshold\n",
    "            \n",
    "        if i <= len(results)-3:\n",
    "            std = results[i+2][2]\n",
    "        \n",
    "        else:\n",
    "            continue\n",
    "\n",
    "        if std > threshold_value:\n",
    "            test= i - window_size // 2\n",
    "            stored_values.append((abs(test), results[i+2][-2][-1]))\n",
    "\n",
    "    return stored_values\n",
    "\n",
    "# Read data from CSV file into a dataframe\n",
    "# df = pd.read_csv(\"./dataset/A4Benchmark/test.csv\")\n",
    "df = pd.read_csv(\"./dataset/A4Benchmark/A4Benchmark-TS1.csv\")\n",
    "\n",
    "# Specify the column name containing the data\n",
    "column_name = 'value'  # Replace 'your_column_name' with the actual column name\n",
    "\n",
    "window_size = 7\n",
    "threshold = 10  # Adjust threshold as needed\n",
    "\n",
    "std_devs = sliding_window_std(df, column_name, window_size, threshold)\n",
    "\n",
    "# hello = test(std_devs, window_size)\n",
    "# print(len(hello))\n",
    "# print(hello)\n",
    "\n",
    "# # Print anomalies\n",
    "print(\"Anomalies:\")\n",
    "for win_num, value in anomalies:\n",
    "    print(f\"Window number: {win_num}, Value: {value}\")\n",
    "print(len(anomalies))\n",
    "\n",
    "# Find normal values\n",
    "normal_values = find_normal_values(df[column_name], anomalies)\n",
    "\n",
    "# Print normal values\n",
    "print(\"Normal Values:\")\n",
    "# print(normal_values)\n",
    "print(len(normal_values))"
   ]
  },
  {
   "cell_type": "code",
   "execution_count": null,
   "id": "c2a97b90-4f5a-4641-a302-1106b44a8f77",
   "metadata": {},
   "outputs": [],
   "source": []
  },
  {
   "cell_type": "code",
   "execution_count": null,
   "id": "089cbc29-6cb7-4a68-84d0-ffc078056aae",
   "metadata": {},
   "outputs": [],
   "source": []
  },
  {
   "cell_type": "code",
   "execution_count": null,
   "id": "32847e50-3eb5-4fd1-a7fe-857a96868650",
   "metadata": {},
   "outputs": [],
   "source": []
  },
  {
   "cell_type": "code",
   "execution_count": null,
   "id": "b068c598-8c13-4a61-b3b1-c72394674867",
   "metadata": {},
   "outputs": [],
   "source": []
  },
  {
   "cell_type": "code",
   "execution_count": null,
   "id": "779f0102-062a-4392-87fa-44f18ac5ab81",
   "metadata": {},
   "outputs": [],
   "source": []
  },
  {
   "cell_type": "code",
   "execution_count": null,
   "id": "ed4cbc35-f6b9-4315-9ccc-8705b4866e1d",
   "metadata": {},
   "outputs": [],
   "source": []
  },
  {
   "cell_type": "code",
   "execution_count": null,
   "id": "1b2fc077-d13b-4bc2-afdd-a357566ffc7d",
   "metadata": {},
   "outputs": [],
   "source": []
  },
  {
   "cell_type": "code",
   "execution_count": null,
   "id": "32c013b5-158a-423a-9290-c318a8f34580",
   "metadata": {},
   "outputs": [],
   "source": []
  },
  {
   "cell_type": "code",
   "execution_count": null,
   "id": "cae4f4dd-27b2-4728-98ae-3848cd5d0f6a",
   "metadata": {},
   "outputs": [],
   "source": []
  },
  {
   "cell_type": "code",
   "execution_count": null,
   "id": "d3cedfa4-8e06-4c98-8b2b-9cf79a13f06c",
   "metadata": {},
   "outputs": [],
   "source": []
  },
  {
   "cell_type": "code",
   "execution_count": null,
   "id": "e6add6eb-c581-426f-9755-6383fa8b7cf4",
   "metadata": {},
   "outputs": [],
   "source": []
  },
  {
   "cell_type": "code",
   "execution_count": null,
   "id": "28ecf966-482a-471e-9939-079c941ce94a",
   "metadata": {},
   "outputs": [],
   "source": []
  },
  {
   "cell_type": "code",
   "execution_count": null,
   "id": "428d6742-191f-430d-9bc3-1254dfbbccc2",
   "metadata": {},
   "outputs": [],
   "source": []
  },
  {
   "cell_type": "code",
   "execution_count": null,
   "id": "8f56a82b-1e04-4154-a5aa-8251850a301a",
   "metadata": {},
   "outputs": [],
   "source": []
  },
  {
   "cell_type": "code",
   "execution_count": null,
   "id": "6eca9ef9-600b-4442-9415-071af087077a",
   "metadata": {},
   "outputs": [],
   "source": []
  },
  {
   "cell_type": "code",
   "execution_count": null,
   "id": "f5bbaff7-4d6a-4890-995a-c798cc805fe8",
   "metadata": {},
   "outputs": [],
   "source": []
  },
  {
   "cell_type": "code",
   "execution_count": null,
   "id": "43ff275a-f7df-4699-a7b8-561be6b4d256",
   "metadata": {},
   "outputs": [],
   "source": []
  },
  {
   "cell_type": "code",
   "execution_count": null,
   "id": "e055425c-d485-4b27-b1ee-48b7b4f791b6",
   "metadata": {},
   "outputs": [],
   "source": []
  },
  {
   "cell_type": "code",
   "execution_count": null,
   "id": "b4e62123-b000-482f-9e54-6dc7c6b7ff8e",
   "metadata": {},
   "outputs": [],
   "source": []
  },
  {
   "cell_type": "code",
   "execution_count": null,
   "id": "42d6f1c6-73ae-41ba-a919-3ebea1324634",
   "metadata": {},
   "outputs": [],
   "source": []
  },
  {
   "cell_type": "code",
   "execution_count": null,
   "id": "09a5374e-4296-4b8c-a216-17c2d9fb1b67",
   "metadata": {},
   "outputs": [],
   "source": []
  },
  {
   "cell_type": "code",
   "execution_count": null,
   "id": "1a9a88e7-ac45-4014-a8e9-52ae8d3c4f36",
   "metadata": {},
   "outputs": [],
   "source": []
  },
  {
   "cell_type": "code",
   "execution_count": null,
   "id": "ffb54ab4-04ec-434a-9674-e6b3a5948fa1",
   "metadata": {},
   "outputs": [],
   "source": []
  },
  {
   "cell_type": "markdown",
   "id": "0ce885b1-182e-486a-8b83-24a1440bbce4",
   "metadata": {},
   "source": [
    "kitny asal mian anomaly hy un ko alag kar do... in a list[tuple].\n",
    "\n",
    "\n",
    "ye jo outliers list hy is ko check karna hy ye seasonal point hy ky nhi?\n",
    "\n",
    "ghalati sy ye koi asal main outlier miss na hu\n",
    "\n",
    "supervisor ky golden words :)\n",
    "\n",
    "seasonla points\n",
    "\n",
    "minus anomaly then seasional and the remianig will be normal"
   ]
  },
  {
   "cell_type": "code",
   "execution_count": null,
   "id": "4dcac079-888b-4101-b239-656762afcd9b",
   "metadata": {},
   "outputs": [],
   "source": []
  },
  {
   "cell_type": "code",
   "execution_count": null,
   "id": "eec69e43-ae7a-4aa9-b763-7b79b8841676",
   "metadata": {},
   "outputs": [],
   "source": []
  },
  {
   "cell_type": "code",
   "execution_count": null,
   "id": "0210ffe0-2b65-404b-b4d0-fa58712789a9",
   "metadata": {},
   "outputs": [],
   "source": []
  },
  {
   "cell_type": "code",
   "execution_count": null,
   "id": "ff7474ac-179c-4a50-896e-a7a36bf2933a",
   "metadata": {},
   "outputs": [],
   "source": []
  },
  {
   "cell_type": "code",
   "execution_count": null,
   "id": "b553ae74-baff-4a1f-81d5-ee37044205e2",
   "metadata": {},
   "outputs": [],
   "source": []
  },
  {
   "cell_type": "code",
   "execution_count": null,
   "id": "9d8ba5a4-7f93-4056-bde0-849c85849e6c",
   "metadata": {},
   "outputs": [],
   "source": []
  }
 ],
 "metadata": {
  "kernelspec": {
   "display_name": "Python 3 (ipykernel)",
   "language": "python",
   "name": "python3"
  },
  "language_info": {
   "codemirror_mode": {
    "name": "ipython",
    "version": 3
   },
   "file_extension": ".py",
   "mimetype": "text/x-python",
   "name": "python",
   "nbconvert_exporter": "python",
   "pygments_lexer": "ipython3",
   "version": "3.11.7"
  }
 },
 "nbformat": 4,
 "nbformat_minor": 5
}
