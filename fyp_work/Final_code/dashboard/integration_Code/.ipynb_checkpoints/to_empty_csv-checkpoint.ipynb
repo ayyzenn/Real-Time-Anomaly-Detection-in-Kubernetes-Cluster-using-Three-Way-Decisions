{
 "cells": [
  {
   "cell_type": "code",
   "execution_count": 9,
   "id": "470d4780-07db-4652-a6a0-1f58fd962fa9",
   "metadata": {
    "tags": []
   },
   "outputs": [
    {
     "name": "stdout",
     "output_type": "stream",
     "text": [
      "            Timestamp     Value  is_anomaly\n",
      "0 2024-05-15 14:44:00  0.001310           0\n",
      "1 2024-05-15 14:44:10  0.006709           0\n",
      "2 2024-05-15 14:44:20  0.006709           0\n",
      "3 2024-05-15 14:44:30  0.006709           0\n",
      "4 2024-05-15 14:44:40  0.002892           0\n",
      "5 2024-05-15 14:44:50  0.002892           0\n",
      "6 2024-05-15 14:45:00  0.003282           0\n",
      "7 2024-05-15 14:45:11  0.002172           0\n",
      "8 2024-05-15 14:45:21  0.002556           0\n"
     ]
    }
   ],
   "source": [
    "import pandas as pd\n",
    "\n",
    "data = {\n",
    "    \"Timestamp\": [\"2024-05-15 14:44:00\", \"2024-05-15 14:44:10\", \"2024-05-15 14:44:20\", \n",
    "                  \"2024-05-15 14:44:30\", \"2024-05-15 14:44:40\", \"2024-05-15 14:44:50\", \n",
    "                  \"2024-05-15 14:45:00\", \"2024-05-15 14:45:11\", \"2024-05-15 14:45:21\"],\n",
    "    \"Value\": [0.001310, 0.006709, 0.006709, 0.006709, 0.002892, 0.002892, 0.003282, \n",
    "              0.002172, 0.002556],\n",
    "    \"is_anomaly\": [0, 0, 0, 0, 0, 0, 0, 0, 0]\n",
    "}\n",
    "\n",
    "df = pd.DataFrame(data)\n",
    "\n",
    "# Convert 'Timestamp' column to datetime format\n",
    "df['Timestamp'] = pd.to_datetime(df['Timestamp'])\n",
    "\n",
    "print(df)"
   ]
  },
  {
   "cell_type": "code",
   "execution_count": 12,
   "id": "bb906a65-8868-40a4-9214-5528145d5a73",
   "metadata": {
    "tags": []
   },
   "outputs": [],
   "source": [
    "anomaly_counts = df[\"Value\"].iloc[3:7]\n"
   ]
  },
  {
   "cell_type": "code",
   "execution_count": null,
   "id": "72119569-5939-4e3e-8a91-10a736a86ee1",
   "metadata": {},
   "outputs": [],
   "source": []
  },
  {
   "cell_type": "code",
   "execution_count": 13,
   "id": "4219091a-315b-4f01-ba05-e036b1bbb96e",
   "metadata": {
    "tags": []
   },
   "outputs": [
    {
     "name": "stdout",
     "output_type": "stream",
     "text": [
      "3    0.006709\n",
      "4    0.002892\n",
      "5    0.002892\n",
      "6    0.003282\n",
      "Name: Value, dtype: float64\n"
     ]
    }
   ],
   "source": [
    "print(anomaly_counts)"
   ]
  },
  {
   "cell_type": "code",
   "execution_count": 96,
   "id": "726972bd-06f6-460a-a730-ab25d6648dfa",
   "metadata": {
    "tags": []
   },
   "outputs": [],
   "source": [
    "import datetime\n",
    "last_value = df.iloc[0]['Timestamp']\n",
    "first_value = df.iloc[-1]['Timestamp']\n",
    "time2_dt = datetime.datetime.strptime(str(last_value), '%Y-%m-%d %H:%M:%S')\n",
    "time1_dt = datetime.datetime.strptime(str(first_value), '%Y-%m-%d %H:%M:%S')"
   ]
  },
  {
   "cell_type": "code",
   "execution_count": 52,
   "id": "74f38339-16d8-482b-8703-cb1c92c2273d",
   "metadata": {
    "tags": []
   },
   "outputs": [
    {
     "name": "stdout",
     "output_type": "stream",
     "text": [
      "hello\n"
     ]
    }
   ],
   "source": [
    "if time1_dt>time2_dt:\n",
    "    print(\"hello\")"
   ]
  },
  {
   "cell_type": "code",
   "execution_count": 53,
   "id": "b26bed5f-2b04-4fa8-8fa2-f27b02739a82",
   "metadata": {
    "tags": []
   },
   "outputs": [
    {
     "name": "stdout",
     "output_type": "stream",
     "text": [
      "2024-05-15 14:45:21\n",
      "<class 'pandas._libs.tslibs.timestamps.Timestamp'>\n",
      "2024-05-15 14:44:00\n"
     ]
    }
   ],
   "source": [
    "print(a)\n",
    "print(type(a))\n",
    "print(time2_dt )"
   ]
  },
  {
   "cell_type": "code",
   "execution_count": 94,
   "id": "79a0080f-b5c0-4393-ab58-723a7a1715b9",
   "metadata": {
    "tags": []
   },
   "outputs": [
    {
     "name": "stdout",
     "output_type": "stream",
     "text": [
      "              Timestamp   Value  is_anomaly\n",
      "10  2024-05-15 17:14:21  0.0027         0.0\n",
      "11  2024-05-15 17:14:31  0.0030         0.0\n",
      "12  2024-05-15 17:14:41  0.0023         0.0\n",
      "13  2024-05-15 17:14:51  0.0028         0.0\n",
      "14  2024-05-15 17:15:01  0.0028         0.0\n",
      "15  2024-05-15 17:15:11  0.0027         0.0\n",
      "16  2024-05-15 17:15:21  0.0017         0.0\n",
      "17  2024-05-15 17:15:31  0.0015         0.0\n",
      "18  2024-05-15 17:15:41  0.0024         0.0\n",
      "19  2024-05-15 17:15:51  0.0027         0.0\n",
      "0                   NaN     NaN         1.0\n",
      "6                   NaN     NaN         1.0\n",
      "7                   NaN     NaN         1.0\n",
      "8                   NaN     NaN         1.0\n"
     ]
    }
   ],
   "source": [
    "print(df)"
   ]
  },
  {
   "cell_type": "code",
   "execution_count": 57,
   "id": "e357da3d-56f0-4510-87db-645b16e8782e",
   "metadata": {
    "tags": []
   },
   "outputs": [],
   "source": [
    "df.at[7,\"is_anomaly\"]=9"
   ]
  },
  {
   "cell_type": "code",
   "execution_count": 61,
   "id": "77f3919c-ea93-4751-be86-cf3e7195972b",
   "metadata": {
    "tags": []
   },
   "outputs": [
    {
     "name": "stdout",
     "output_type": "stream",
     "text": [
      "            Timestamp     Value  is_anomaly\n",
      "0 2024-05-15 14:44:00  0.001310           0\n",
      "1 2024-05-15 14:44:10  0.006709           0\n",
      "2 2024-05-15 14:44:20  0.006709           0\n",
      "3 2024-05-15 14:44:30  0.006709           0\n",
      "4 2024-05-15 14:44:40  0.002892           0\n",
      "5 2024-05-15 14:44:50  0.002892           0\n",
      "6 2024-05-15 14:45:00  0.003282           0\n",
      "7 2024-05-15 14:45:11  0.002172           9\n",
      "8 2024-05-15 14:45:21  0.002556           0\n"
     ]
    }
   ],
   "source": [
    "print(df)"
   ]
  },
  {
   "cell_type": "code",
   "execution_count": 75,
   "id": "25923563-60ee-4636-99e9-7a4f6b09e612",
   "metadata": {
    "tags": []
   },
   "outputs": [
    {
     "data": {
      "text/plain": [
       "0"
      ]
     },
     "execution_count": 75,
     "metadata": {},
     "output_type": "execute_result"
    }
   ],
   "source": [
    "df.index[0]"
   ]
  },
  {
   "cell_type": "code",
   "execution_count": 63,
   "id": "9d616d75-d3f0-408a-b961-2ddeee7453f9",
   "metadata": {
    "tags": []
   },
   "outputs": [
    {
     "name": "stdout",
     "output_type": "stream",
     "text": [
      "wtrg\n"
     ]
    }
   ],
   "source": [
    "if not df.empty:\n",
    "    print(\"wtrg\")"
   ]
  },
  {
   "cell_type": "code",
   "execution_count": 26,
   "id": "5033681f-332e-4454-bff2-03782623fa84",
   "metadata": {},
   "outputs": [],
   "source": [
    "import csv\n",
    "\n",
    "# Open the CSV file in read mode\n",
    "with open('frontend_cpu_result.csv', 'r') as infile:\n",
    "    # Read the CSV file\n",
    "    reader = csv.reader(infile)\n",
    "    # Get the header\n",
    "    header = next(reader)\n",
    "    # Close the file\n",
    "\n",
    "# Open the CSV file in write mode\n",
    "with open('frontend_cpu_result.csv', 'w', newline='') as outfile:\n",
    "    # Write the header back to the file\n",
    "    writer = csv.writer(outfile)\n",
    "    writer.writerow(header)\n",
    "    # Close the file"
   ]
  },
  {
   "cell_type": "code",
   "execution_count": 69,
   "id": "5c5aef46-43f4-4d3d-b486-b9e83088727e",
   "metadata": {},
   "outputs": [],
   "source": [
    "def sliding_window_std(df, column_name, window_size, threshold):\n",
    "    results = []\n",
    "    #df.loc[:, 'predicted_anomalies'] = 0\n",
    "    \n",
    "    for i in range(len(df)):\n",
    "        # Calculate the window boundaries\n",
    "        start_index = max(0, i - window_size // 2)\n",
    "        end_index = min(len(df), i + window_size // 2 + 1)\n",
    "        \n",
    "        # Get the numbers within the window\n",
    "        window = df[column_name].iloc[start_index:end_index]\n",
    "        \n",
    "        # Calculate the standard deviation of the window\n",
    "        std_dev = window.std()\n",
    "        \n",
    "        # Append the result to the results list\n",
    "        results.append((i, df.iloc[i][column_name], window.tolist(), std_dev))\n",
    "        if len(results) >= 3:\n",
    "            avg_prev_results = (results[-3][3] + results[-2][3]) / 2\n",
    "            threshold_value = avg_prev_results + threshold\n",
    "\n",
    "            if std_dev > threshold_value or std_dev < threshold_value:\n",
    "                # Append the index and value to problem_vals\n",
    "                row = finding_row_number(df[column_name],  window.iloc[-1])\n",
    "                if row!=-500:\n",
    "                    problematic_row = df.iloc[row]\n",
    "                    if removing_seasonal_points(problematic_row):\n",
    "                        #problem_vals.append((i - window_size // 2, window.iloc[-1]))\n",
    "                        #print(row)\n",
    "                        df.at[row, \"is_anomaly\"] = 1\n",
    "                    else:\n",
    "                        pass\n",
    "                else:\n",
    "                    pass\n",
    "    print(df)\n",
    "               \n",
    "    return df\n",
    "                \n",
    "\n",
    "def finding_row_number(original_lst, anomaly_lst):\n",
    "    i = -1\n",
    "    for num in original_lst:\n",
    "        i +=1\n",
    "        if num == anomaly_lst:\n",
    "            return i\n",
    "    return -500\n",
    "\n",
    "def removing_seasonal_points(anomalous_row):\n",
    "    a=anomalous_row[\"Timestamp\"]\n",
    "    dt_obj = datetime.datetime.strptime(str(a), '%Y-%m-%d %H:%M:%S')\n",
    "    if (dt_obj.minute== 0 and  dt_obj.second== 0) :\n",
    "        return False        \n",
    "    else:\n",
    "        return True\n",
    "    \n",
    "    "
   ]
  },
  {
   "cell_type": "code",
   "execution_count": 87,
   "id": "44715e79-556c-4557-a36a-5512ee034530",
   "metadata": {
    "tags": []
   },
   "outputs": [
    {
     "name": "stdout",
     "output_type": "stream",
     "text": [
      "              Timestamp   Value  is_anomaly\n",
      "10  2024-05-15 17:14:21  0.0027         0.0\n",
      "11  2024-05-15 17:14:31  0.0030         0.0\n",
      "12  2024-05-15 17:14:41  0.0023         0.0\n",
      "13  2024-05-15 17:14:51  0.0028         0.0\n",
      "14  2024-05-15 17:15:01  0.0028         0.0\n",
      "15  2024-05-15 17:15:11  0.0027         0.0\n",
      "16  2024-05-15 17:15:21  0.0017         0.0\n",
      "17  2024-05-15 17:15:31  0.0015         0.0\n",
      "18  2024-05-15 17:15:41  0.0024         0.0\n",
      "19  2024-05-15 17:15:51  0.0027         0.0\n",
      "0                   NaN     NaN         1.0\n",
      "6                   NaN     NaN         1.0\n",
      "7                   NaN     NaN         1.0\n",
      "8                   NaN     NaN         1.0\n"
     ]
    }
   ],
   "source": [
    "d=sliding_window_std(df, \"Value\", 7, 5)"
   ]
  },
  {
   "cell_type": "code",
   "execution_count": 88,
   "id": "a3ce43f8-0984-4a83-a2ba-ed82ec42b5de",
   "metadata": {
    "tags": []
   },
   "outputs": [
    {
     "name": "stdout",
     "output_type": "stream",
     "text": [
      "              Timestamp   Value  is_anomaly\n",
      "10  2024-05-15 17:14:21  0.0027         0.0\n",
      "11  2024-05-15 17:14:31  0.0030         0.0\n",
      "12  2024-05-15 17:14:41  0.0023         0.0\n",
      "13  2024-05-15 17:14:51  0.0028         0.0\n",
      "14  2024-05-15 17:15:01  0.0028         0.0\n",
      "15  2024-05-15 17:15:11  0.0027         0.0\n",
      "16  2024-05-15 17:15:21  0.0017         0.0\n",
      "17  2024-05-15 17:15:31  0.0015         0.0\n",
      "18  2024-05-15 17:15:41  0.0024         0.0\n",
      "19  2024-05-15 17:15:51  0.0027         0.0\n",
      "0                   NaN     NaN         1.0\n",
      "6                   NaN     NaN         1.0\n",
      "7                   NaN     NaN         1.0\n",
      "8                   NaN     NaN         1.0\n"
     ]
    }
   ],
   "source": [
    "print(d)"
   ]
  },
  {
   "cell_type": "code",
   "execution_count": 92,
   "id": "ad6db7e5-f2d3-4fcf-aeef-a9e0fbf01fb2",
   "metadata": {
    "tags": []
   },
   "outputs": [
    {
     "data": {
      "text/plain": [
       "'2024-05-15 17:14:21'"
      ]
     },
     "execution_count": 92,
     "metadata": {},
     "output_type": "execute_result"
    }
   ],
   "source": [
    "d.iloc[0][\"Timestamp\"]"
   ]
  },
  {
   "cell_type": "code",
   "execution_count": 89,
   "id": "05bf8ece-6850-4526-a743-b37e1e1cbfb2",
   "metadata": {
    "tags": []
   },
   "outputs": [],
   "source": [
    "a=df.iloc[7]"
   ]
  },
  {
   "cell_type": "code",
   "execution_count": 90,
   "id": "8decef7f-841d-4a84-a8ab-8da6a15c8c0f",
   "metadata": {
    "tags": []
   },
   "outputs": [
    {
     "data": {
      "text/plain": [
       "'2024-05-15 17:15:31'"
      ]
     },
     "execution_count": 90,
     "metadata": {},
     "output_type": "execute_result"
    }
   ],
   "source": [
    "a[\"Timestamp\"]"
   ]
  },
  {
   "cell_type": "code",
   "execution_count": 76,
   "id": "fa466f5b-50b1-4744-8aad-ab18add2f983",
   "metadata": {},
   "outputs": [
    {
     "name": "stdout",
     "output_type": "stream",
     "text": [
      "              Timestamp   Value  is_anomaly\n",
      "10  2024-05-15 17:14:21  0.0027           0\n",
      "11  2024-05-15 17:14:31  0.0030           0\n",
      "12  2024-05-15 17:14:41  0.0023           0\n",
      "13  2024-05-15 17:14:51  0.0028           0\n",
      "14  2024-05-15 17:15:01  0.0028           0\n",
      "15  2024-05-15 17:15:11  0.0027           0\n",
      "16  2024-05-15 17:15:21  0.0017           0\n",
      "17  2024-05-15 17:15:31  0.0015           0\n",
      "18  2024-05-15 17:15:41  0.0024           0\n",
      "19  2024-05-15 17:15:51  0.0027           0\n"
     ]
    }
   ],
   "source": [
    "import pandas as pd\n",
    "\n",
    "data = {\n",
    "    \"Timestamp\": [\"2024-05-15 17:14:21\", \"2024-05-15 17:14:31\", \"2024-05-15 17:14:41\", \n",
    "                  \"2024-05-15 17:14:51\", \"2024-05-15 17:15:01\", \"2024-05-15 17:15:11\", \n",
    "                  \"2024-05-15 17:15:21\", \"2024-05-15 17:15:31\", \"2024-05-15 17:15:41\", \n",
    "                  \"2024-05-15 17:15:51\"],\n",
    "    \"Value\": [0.0027, 0.0030, 0.0023, 0.0028, 0.0028, 0.0027, 0.0017, 0.0015, 0.0024, 0.0027],\n",
    "    \"is_anomaly\": [0, 0, 0, 0, 0, 0, 0, 0, 0, 0]\n",
    "}\n",
    "\n",
    "df = pd.DataFrame(data, index=range(10, 20))\n",
    "\n",
    "print(df)"
   ]
  },
  {
   "cell_type": "code",
   "execution_count": 77,
   "id": "4864b1f3-17eb-4596-95bb-d595d6213609",
   "metadata": {
    "tags": []
   },
   "outputs": [
    {
     "data": {
      "text/plain": [
       "12"
      ]
     },
     "execution_count": 77,
     "metadata": {},
     "output_type": "execute_result"
    }
   ],
   "source": [
    "df.index[2]"
   ]
  },
  {
   "cell_type": "code",
   "execution_count": null,
   "id": "3d6b9c4e-0ff4-4e0a-bc44-75b4e936f3c1",
   "metadata": {},
   "outputs": [],
   "source": []
  }
 ],
 "metadata": {
  "kernelspec": {
   "display_name": "Python 3 (ipykernel)",
   "language": "python",
   "name": "python3"
  },
  "language_info": {
   "codemirror_mode": {
    "name": "ipython",
    "version": 3
   },
   "file_extension": ".py",
   "mimetype": "text/x-python",
   "name": "python",
   "nbconvert_exporter": "python",
   "pygments_lexer": "ipython3",
   "version": "3.11.5"
  }
 },
 "nbformat": 4,
 "nbformat_minor": 5
}
