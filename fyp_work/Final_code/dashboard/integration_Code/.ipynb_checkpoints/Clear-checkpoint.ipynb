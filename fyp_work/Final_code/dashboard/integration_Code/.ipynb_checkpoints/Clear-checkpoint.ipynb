{
 "cells": [
  {
   "cell_type": "markdown",
   "id": "a9f9da4b-7b49-43cf-800c-254c1069d62d",
   "metadata": {},
   "source": [
    "# frontend_cpu_result"
   ]
  },
  {
   "cell_type": "code",
   "execution_count": 2,
   "id": "07725cb6-de09-4619-a84f-91fd65308a44",
   "metadata": {},
   "outputs": [],
   "source": [
    "import csv\n",
    "# Open the CSV file in read mode\n",
    "with open('frontend_cpu_result.csv', 'r') as infile:\n",
    "    # Read the CSV file\n",
    "    reader = csv.reader(infile)\n",
    "    # Get the header\n",
    "    header = next(reader)\n",
    "    # Close the file\n",
    "\n",
    "# Open the CSV file in write mode\n",
    "with open('frontend_cpu_result.csv', 'w', newline='') as outfile:\n",
    "    # Write the header back to the file\n",
    "    writer = csv.writer(outfile)\n",
    "    writer.writerow(header)\n",
    "    # Close the file"
   ]
  },
  {
   "cell_type": "markdown",
   "id": "aa5a5a4a-a584-41cf-ab09-a39d66ba3e80",
   "metadata": {},
   "source": [
    "# frontend_memory_result"
   ]
  },
  {
   "cell_type": "code",
   "execution_count": 3,
   "id": "59ec2108-0927-4d67-be7a-992dc0ced8d5",
   "metadata": {},
   "outputs": [],
   "source": [
    "import csv\n",
    "# Open the CSV file in read mode\n",
    "with open('frontend_memory_result.csv', 'r') as infile:\n",
    "    # Read the CSV file\n",
    "    reader = csv.reader(infile)\n",
    "    # Get the header\n",
    "    header = next(reader)\n",
    "    # Close the file\n",
    "\n",
    "# Open the CSV file in write mode\n",
    "with open('frontend_memory_result.csv', 'w', newline='') as outfile:\n",
    "    # Write the header back to the file\n",
    "    writer = csv.writer(outfile)\n",
    "    writer.writerow(header)\n",
    "    # Close the file"
   ]
  },
  {
   "cell_type": "markdown",
   "id": "83809ab9-2237-4fbe-aafc-663281cd95b1",
   "metadata": {},
   "source": [
    "# user_cpu_result"
   ]
  },
  {
   "cell_type": "code",
   "execution_count": 4,
   "id": "0fe7d161-96c1-4342-97ab-9dca5a69964a",
   "metadata": {},
   "outputs": [],
   "source": [
    "import csv\n",
    "# Open the CSV file in read mode\n",
    "with open('user_cpu_result.csv', 'r') as infile:\n",
    "    # Read the CSV file\n",
    "    reader = csv.reader(infile)\n",
    "    # Get the header\n",
    "    header = next(reader)\n",
    "    # Close the file\n",
    "\n",
    "# Open the CSV file in write mode\n",
    "with open('user_cpu_result.csv', 'w', newline='') as outfile:\n",
    "    # Write the header back to the file\n",
    "    writer = csv.writer(outfile)\n",
    "    writer.writerow(header)\n",
    "    # Close the file"
   ]
  },
  {
   "cell_type": "markdown",
   "id": "df7eda07-c0fe-4fd6-963a-5211043d3dbc",
   "metadata": {},
   "source": [
    "# user_memory_result"
   ]
  },
  {
   "cell_type": "code",
   "execution_count": 5,
   "id": "a4b6bd5a-57cd-4921-b18d-244eed232678",
   "metadata": {},
   "outputs": [],
   "source": [
    "import csv\n",
    "# Open the CSV file in read mode\n",
    "with open('user_memory_result.csv', 'r') as infile:\n",
    "    # Read the CSV file\n",
    "    reader = csv.reader(infile)\n",
    "    # Get the header\n",
    "    header = next(reader)\n",
    "    # Close the file\n",
    "\n",
    "# Open the CSV file in write mode\n",
    "with open('user_memory_result.csv', 'w', newline='') as outfile:\n",
    "    # Write the header back to the file\n",
    "    writer = csv.writer(outfile)\n",
    "    writer.writerow(header)\n",
    "    # Close the file"
   ]
  },
  {
   "cell_type": "code",
   "execution_count": null,
   "id": "d06cfa35-b659-42b8-82f6-def9b1271525",
   "metadata": {},
   "outputs": [],
   "source": []
  }
 ],
 "metadata": {
  "kernelspec": {
   "display_name": "Python 3 (ipykernel)",
   "language": "python",
   "name": "python3"
  },
  "language_info": {
   "codemirror_mode": {
    "name": "ipython",
    "version": 3
   },
   "file_extension": ".py",
   "mimetype": "text/x-python",
   "name": "python",
   "nbconvert_exporter": "python",
   "pygments_lexer": "ipython3",
   "version": "3.11.7"
  }
 },
 "nbformat": 4,
 "nbformat_minor": 5
}
